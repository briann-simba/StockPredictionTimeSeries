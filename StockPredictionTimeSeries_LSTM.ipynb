{
  "nbformat": 4,
  "nbformat_minor": 0,
  "metadata": {
    "colab": {
      "name": "StockPredictionTimeSeries-LSTM.ipynb",
      "provenance": [],
      "collapsed_sections": []
    },
    "kernelspec": {
      "name": "python3",
      "display_name": "Python 3"
    },
    "language_info": {
      "name": "python"
    }
  },
  "cells": [
    {
      "cell_type": "code",
      "execution_count": 1,
      "metadata": {
        "id": "dqr31MHJIpfl"
      },
      "outputs": [],
      "source": [
        "API_KEY='YOUR_TINGO_KEY_HERE'\n"
      ]
    },
    {
      "cell_type": "code",
      "source": [
        "import pandas_datareader as pdr"
      ],
      "metadata": {
        "id": "5tAVZmwBJpBc"
      },
      "execution_count": 2,
      "outputs": []
    },
    {
      "cell_type": "code",
      "source": [
        "df=pdr.get_data_tiingo('AAPL',api_key=API_KEY)"
      ],
      "metadata": {
        "colab": {
          "base_uri": "https://localhost:8080/"
        },
        "id": "OPinmnVQJpDz",
        "outputId": "03b4605d-4b4b-408b-8f2a-789dd672c927"
      },
      "execution_count": 3,
      "outputs": [
        {
          "output_type": "stream",
          "name": "stderr",
          "text": [
            "/usr/local/lib/python3.7/dist-packages/pandas_datareader/tiingo.py:234: FutureWarning: In a future version of pandas all arguments of concat except for the argument 'objs' will be keyword-only\n",
            "  return pd.concat(dfs, self._concat_axis)\n"
          ]
        }
      ]
    },
    {
      "cell_type": "code",
      "source": [
        "df"
      ],
      "metadata": {
        "colab": {
          "base_uri": "https://localhost:8080/",
          "height": 455
        },
        "id": "fGxmvef9JpGA",
        "outputId": "9f87c36b-b696-4779-bdb7-203b34ecbbca"
      },
      "execution_count": 4,
      "outputs": [
        {
          "output_type": "execute_result",
          "data": {
            "text/plain": [
              "                                   close      high     low    open     volume  \\\n",
              "symbol date                                                                     \n",
              "AAPL   2017-05-25 00:00:00+00:00  153.87  154.3500  153.03  153.73   19044463   \n",
              "       2017-05-26 00:00:00+00:00  153.61  154.2400  153.31  154.00   21632202   \n",
              "       2017-05-30 00:00:00+00:00  153.67  154.4300  153.33  153.42   20034934   \n",
              "       2017-05-31 00:00:00+00:00  152.76  154.1700  152.38  153.97   23162873   \n",
              "       2017-06-01 00:00:00+00:00  153.18  153.3300  152.22  153.17   16180143   \n",
              "...                                  ...       ...     ...     ...        ...   \n",
              "       2022-05-17 00:00:00+00:00  149.24  149.7700  146.68  148.86   78336254   \n",
              "       2022-05-18 00:00:00+00:00  140.82  147.3601  139.90  146.85  109742890   \n",
              "       2022-05-19 00:00:00+00:00  137.35  141.6600  136.60  139.88  136095640   \n",
              "       2022-05-20 00:00:00+00:00  137.59  140.7000  132.61  139.09  137426125   \n",
              "       2022-05-23 00:00:00+00:00  143.11  143.2600  137.65  137.79  117726265   \n",
              "\n",
              "                                    adjClose     adjHigh      adjLow  \\\n",
              "symbol date                                                            \n",
              "AAPL   2017-05-25 00:00:00+00:00   36.409270   36.522850   36.210507   \n",
              "       2017-05-26 00:00:00+00:00   36.347748   36.496821   36.276761   \n",
              "       2017-05-30 00:00:00+00:00   36.361946   36.541780   36.281494   \n",
              "       2017-05-31 00:00:00+00:00   36.146618   36.480257   36.056701   \n",
              "       2017-06-01 00:00:00+00:00   36.246000   36.281494   36.018841   \n",
              "...                                      ...         ...         ...   \n",
              "       2022-05-17 00:00:00+00:00  149.240000  149.770000  146.680000   \n",
              "       2022-05-18 00:00:00+00:00  140.820000  147.360100  139.900000   \n",
              "       2022-05-19 00:00:00+00:00  137.350000  141.660000  136.600000   \n",
              "       2022-05-20 00:00:00+00:00  137.590000  140.700000  132.610000   \n",
              "       2022-05-23 00:00:00+00:00  143.110000  143.260000  137.650000   \n",
              "\n",
              "                                     adjOpen  adjVolume  divCash  splitFactor  \n",
              "symbol date                                                                    \n",
              "AAPL   2017-05-25 00:00:00+00:00   36.376143   76177852      0.0          1.0  \n",
              "       2017-05-26 00:00:00+00:00   36.440031   86528808      0.0          1.0  \n",
              "       2017-05-30 00:00:00+00:00   36.302790   80139736      0.0          1.0  \n",
              "       2017-05-31 00:00:00+00:00   36.432933   92651492      0.0          1.0  \n",
              "       2017-06-01 00:00:00+00:00   36.243634   64720572      0.0          1.0  \n",
              "...                                      ...        ...      ...          ...  \n",
              "       2022-05-17 00:00:00+00:00  148.860000   78336254      0.0          1.0  \n",
              "       2022-05-18 00:00:00+00:00  146.850000  109742890      0.0          1.0  \n",
              "       2022-05-19 00:00:00+00:00  139.880000  136095640      0.0          1.0  \n",
              "       2022-05-20 00:00:00+00:00  139.090000  137426125      0.0          1.0  \n",
              "       2022-05-23 00:00:00+00:00  137.790000  117726265      0.0          1.0  \n",
              "\n",
              "[1258 rows x 12 columns]"
            ],
            "text/html": [
              "\n",
              "  <div id=\"df-0797ddf3-9aa8-4434-84cb-1e47461443eb\">\n",
              "    <div class=\"colab-df-container\">\n",
              "      <div>\n",
              "<style scoped>\n",
              "    .dataframe tbody tr th:only-of-type {\n",
              "        vertical-align: middle;\n",
              "    }\n",
              "\n",
              "    .dataframe tbody tr th {\n",
              "        vertical-align: top;\n",
              "    }\n",
              "\n",
              "    .dataframe thead th {\n",
              "        text-align: right;\n",
              "    }\n",
              "</style>\n",
              "<table border=\"1\" class=\"dataframe\">\n",
              "  <thead>\n",
              "    <tr style=\"text-align: right;\">\n",
              "      <th></th>\n",
              "      <th></th>\n",
              "      <th>close</th>\n",
              "      <th>high</th>\n",
              "      <th>low</th>\n",
              "      <th>open</th>\n",
              "      <th>volume</th>\n",
              "      <th>adjClose</th>\n",
              "      <th>adjHigh</th>\n",
              "      <th>adjLow</th>\n",
              "      <th>adjOpen</th>\n",
              "      <th>adjVolume</th>\n",
              "      <th>divCash</th>\n",
              "      <th>splitFactor</th>\n",
              "    </tr>\n",
              "    <tr>\n",
              "      <th>symbol</th>\n",
              "      <th>date</th>\n",
              "      <th></th>\n",
              "      <th></th>\n",
              "      <th></th>\n",
              "      <th></th>\n",
              "      <th></th>\n",
              "      <th></th>\n",
              "      <th></th>\n",
              "      <th></th>\n",
              "      <th></th>\n",
              "      <th></th>\n",
              "      <th></th>\n",
              "      <th></th>\n",
              "    </tr>\n",
              "  </thead>\n",
              "  <tbody>\n",
              "    <tr>\n",
              "      <th rowspan=\"11\" valign=\"top\">AAPL</th>\n",
              "      <th>2017-05-25 00:00:00+00:00</th>\n",
              "      <td>153.87</td>\n",
              "      <td>154.3500</td>\n",
              "      <td>153.03</td>\n",
              "      <td>153.73</td>\n",
              "      <td>19044463</td>\n",
              "      <td>36.409270</td>\n",
              "      <td>36.522850</td>\n",
              "      <td>36.210507</td>\n",
              "      <td>36.376143</td>\n",
              "      <td>76177852</td>\n",
              "      <td>0.0</td>\n",
              "      <td>1.0</td>\n",
              "    </tr>\n",
              "    <tr>\n",
              "      <th>2017-05-26 00:00:00+00:00</th>\n",
              "      <td>153.61</td>\n",
              "      <td>154.2400</td>\n",
              "      <td>153.31</td>\n",
              "      <td>154.00</td>\n",
              "      <td>21632202</td>\n",
              "      <td>36.347748</td>\n",
              "      <td>36.496821</td>\n",
              "      <td>36.276761</td>\n",
              "      <td>36.440031</td>\n",
              "      <td>86528808</td>\n",
              "      <td>0.0</td>\n",
              "      <td>1.0</td>\n",
              "    </tr>\n",
              "    <tr>\n",
              "      <th>2017-05-30 00:00:00+00:00</th>\n",
              "      <td>153.67</td>\n",
              "      <td>154.4300</td>\n",
              "      <td>153.33</td>\n",
              "      <td>153.42</td>\n",
              "      <td>20034934</td>\n",
              "      <td>36.361946</td>\n",
              "      <td>36.541780</td>\n",
              "      <td>36.281494</td>\n",
              "      <td>36.302790</td>\n",
              "      <td>80139736</td>\n",
              "      <td>0.0</td>\n",
              "      <td>1.0</td>\n",
              "    </tr>\n",
              "    <tr>\n",
              "      <th>2017-05-31 00:00:00+00:00</th>\n",
              "      <td>152.76</td>\n",
              "      <td>154.1700</td>\n",
              "      <td>152.38</td>\n",
              "      <td>153.97</td>\n",
              "      <td>23162873</td>\n",
              "      <td>36.146618</td>\n",
              "      <td>36.480257</td>\n",
              "      <td>36.056701</td>\n",
              "      <td>36.432933</td>\n",
              "      <td>92651492</td>\n",
              "      <td>0.0</td>\n",
              "      <td>1.0</td>\n",
              "    </tr>\n",
              "    <tr>\n",
              "      <th>2017-06-01 00:00:00+00:00</th>\n",
              "      <td>153.18</td>\n",
              "      <td>153.3300</td>\n",
              "      <td>152.22</td>\n",
              "      <td>153.17</td>\n",
              "      <td>16180143</td>\n",
              "      <td>36.246000</td>\n",
              "      <td>36.281494</td>\n",
              "      <td>36.018841</td>\n",
              "      <td>36.243634</td>\n",
              "      <td>64720572</td>\n",
              "      <td>0.0</td>\n",
              "      <td>1.0</td>\n",
              "    </tr>\n",
              "    <tr>\n",
              "      <th>...</th>\n",
              "      <td>...</td>\n",
              "      <td>...</td>\n",
              "      <td>...</td>\n",
              "      <td>...</td>\n",
              "      <td>...</td>\n",
              "      <td>...</td>\n",
              "      <td>...</td>\n",
              "      <td>...</td>\n",
              "      <td>...</td>\n",
              "      <td>...</td>\n",
              "      <td>...</td>\n",
              "      <td>...</td>\n",
              "    </tr>\n",
              "    <tr>\n",
              "      <th>2022-05-17 00:00:00+00:00</th>\n",
              "      <td>149.24</td>\n",
              "      <td>149.7700</td>\n",
              "      <td>146.68</td>\n",
              "      <td>148.86</td>\n",
              "      <td>78336254</td>\n",
              "      <td>149.240000</td>\n",
              "      <td>149.770000</td>\n",
              "      <td>146.680000</td>\n",
              "      <td>148.860000</td>\n",
              "      <td>78336254</td>\n",
              "      <td>0.0</td>\n",
              "      <td>1.0</td>\n",
              "    </tr>\n",
              "    <tr>\n",
              "      <th>2022-05-18 00:00:00+00:00</th>\n",
              "      <td>140.82</td>\n",
              "      <td>147.3601</td>\n",
              "      <td>139.90</td>\n",
              "      <td>146.85</td>\n",
              "      <td>109742890</td>\n",
              "      <td>140.820000</td>\n",
              "      <td>147.360100</td>\n",
              "      <td>139.900000</td>\n",
              "      <td>146.850000</td>\n",
              "      <td>109742890</td>\n",
              "      <td>0.0</td>\n",
              "      <td>1.0</td>\n",
              "    </tr>\n",
              "    <tr>\n",
              "      <th>2022-05-19 00:00:00+00:00</th>\n",
              "      <td>137.35</td>\n",
              "      <td>141.6600</td>\n",
              "      <td>136.60</td>\n",
              "      <td>139.88</td>\n",
              "      <td>136095640</td>\n",
              "      <td>137.350000</td>\n",
              "      <td>141.660000</td>\n",
              "      <td>136.600000</td>\n",
              "      <td>139.880000</td>\n",
              "      <td>136095640</td>\n",
              "      <td>0.0</td>\n",
              "      <td>1.0</td>\n",
              "    </tr>\n",
              "    <tr>\n",
              "      <th>2022-05-20 00:00:00+00:00</th>\n",
              "      <td>137.59</td>\n",
              "      <td>140.7000</td>\n",
              "      <td>132.61</td>\n",
              "      <td>139.09</td>\n",
              "      <td>137426125</td>\n",
              "      <td>137.590000</td>\n",
              "      <td>140.700000</td>\n",
              "      <td>132.610000</td>\n",
              "      <td>139.090000</td>\n",
              "      <td>137426125</td>\n",
              "      <td>0.0</td>\n",
              "      <td>1.0</td>\n",
              "    </tr>\n",
              "    <tr>\n",
              "      <th>2022-05-23 00:00:00+00:00</th>\n",
              "      <td>143.11</td>\n",
              "      <td>143.2600</td>\n",
              "      <td>137.65</td>\n",
              "      <td>137.79</td>\n",
              "      <td>117726265</td>\n",
              "      <td>143.110000</td>\n",
              "      <td>143.260000</td>\n",
              "      <td>137.650000</td>\n",
              "      <td>137.790000</td>\n",
              "      <td>117726265</td>\n",
              "      <td>0.0</td>\n",
              "      <td>1.0</td>\n",
              "    </tr>\n",
              "  </tbody>\n",
              "</table>\n",
              "<p>1258 rows × 12 columns</p>\n",
              "</div>\n",
              "      <button class=\"colab-df-convert\" onclick=\"convertToInteractive('df-0797ddf3-9aa8-4434-84cb-1e47461443eb')\"\n",
              "              title=\"Convert this dataframe to an interactive table.\"\n",
              "              style=\"display:none;\">\n",
              "        \n",
              "  <svg xmlns=\"http://www.w3.org/2000/svg\" height=\"24px\"viewBox=\"0 0 24 24\"\n",
              "       width=\"24px\">\n",
              "    <path d=\"M0 0h24v24H0V0z\" fill=\"none\"/>\n",
              "    <path d=\"M18.56 5.44l.94 2.06.94-2.06 2.06-.94-2.06-.94-.94-2.06-.94 2.06-2.06.94zm-11 1L8.5 8.5l.94-2.06 2.06-.94-2.06-.94L8.5 2.5l-.94 2.06-2.06.94zm10 10l.94 2.06.94-2.06 2.06-.94-2.06-.94-.94-2.06-.94 2.06-2.06.94z\"/><path d=\"M17.41 7.96l-1.37-1.37c-.4-.4-.92-.59-1.43-.59-.52 0-1.04.2-1.43.59L10.3 9.45l-7.72 7.72c-.78.78-.78 2.05 0 2.83L4 21.41c.39.39.9.59 1.41.59.51 0 1.02-.2 1.41-.59l7.78-7.78 2.81-2.81c.8-.78.8-2.07 0-2.86zM5.41 20L4 18.59l7.72-7.72 1.47 1.35L5.41 20z\"/>\n",
              "  </svg>\n",
              "      </button>\n",
              "      \n",
              "  <style>\n",
              "    .colab-df-container {\n",
              "      display:flex;\n",
              "      flex-wrap:wrap;\n",
              "      gap: 12px;\n",
              "    }\n",
              "\n",
              "    .colab-df-convert {\n",
              "      background-color: #E8F0FE;\n",
              "      border: none;\n",
              "      border-radius: 50%;\n",
              "      cursor: pointer;\n",
              "      display: none;\n",
              "      fill: #1967D2;\n",
              "      height: 32px;\n",
              "      padding: 0 0 0 0;\n",
              "      width: 32px;\n",
              "    }\n",
              "\n",
              "    .colab-df-convert:hover {\n",
              "      background-color: #E2EBFA;\n",
              "      box-shadow: 0px 1px 2px rgba(60, 64, 67, 0.3), 0px 1px 3px 1px rgba(60, 64, 67, 0.15);\n",
              "      fill: #174EA6;\n",
              "    }\n",
              "\n",
              "    [theme=dark] .colab-df-convert {\n",
              "      background-color: #3B4455;\n",
              "      fill: #D2E3FC;\n",
              "    }\n",
              "\n",
              "    [theme=dark] .colab-df-convert:hover {\n",
              "      background-color: #434B5C;\n",
              "      box-shadow: 0px 1px 3px 1px rgba(0, 0, 0, 0.15);\n",
              "      filter: drop-shadow(0px 1px 2px rgba(0, 0, 0, 0.3));\n",
              "      fill: #FFFFFF;\n",
              "    }\n",
              "  </style>\n",
              "\n",
              "      <script>\n",
              "        const buttonEl =\n",
              "          document.querySelector('#df-0797ddf3-9aa8-4434-84cb-1e47461443eb button.colab-df-convert');\n",
              "        buttonEl.style.display =\n",
              "          google.colab.kernel.accessAllowed ? 'block' : 'none';\n",
              "\n",
              "        async function convertToInteractive(key) {\n",
              "          const element = document.querySelector('#df-0797ddf3-9aa8-4434-84cb-1e47461443eb');\n",
              "          const dataTable =\n",
              "            await google.colab.kernel.invokeFunction('convertToInteractive',\n",
              "                                                     [key], {});\n",
              "          if (!dataTable) return;\n",
              "\n",
              "          const docLinkHtml = 'Like what you see? Visit the ' +\n",
              "            '<a target=\"_blank\" href=https://colab.research.google.com/notebooks/data_table.ipynb>data table notebook</a>'\n",
              "            + ' to learn more about interactive tables.';\n",
              "          element.innerHTML = '';\n",
              "          dataTable['output_type'] = 'display_data';\n",
              "          await google.colab.output.renderOutput(dataTable, element);\n",
              "          const docLink = document.createElement('div');\n",
              "          docLink.innerHTML = docLinkHtml;\n",
              "          element.appendChild(docLink);\n",
              "        }\n",
              "      </script>\n",
              "    </div>\n",
              "  </div>\n",
              "  "
            ]
          },
          "metadata": {},
          "execution_count": 4
        }
      ]
    },
    {
      "cell_type": "code",
      "source": [
        "df.to_csv('AAPL.csv')"
      ],
      "metadata": {
        "id": "gcZ1orzvJpIM"
      },
      "execution_count": 5,
      "outputs": []
    },
    {
      "cell_type": "code",
      "source": [
        "df.head()"
      ],
      "metadata": {
        "colab": {
          "base_uri": "https://localhost:8080/",
          "height": 238
        },
        "id": "8RooEN8yLYlB",
        "outputId": "43f28349-7106-4288-e968-b48ef7eeb61f"
      },
      "execution_count": 6,
      "outputs": [
        {
          "output_type": "execute_result",
          "data": {
            "text/plain": [
              "                                   close    high     low    open    volume  \\\n",
              "symbol date                                                                  \n",
              "AAPL   2017-05-25 00:00:00+00:00  153.87  154.35  153.03  153.73  19044463   \n",
              "       2017-05-26 00:00:00+00:00  153.61  154.24  153.31  154.00  21632202   \n",
              "       2017-05-30 00:00:00+00:00  153.67  154.43  153.33  153.42  20034934   \n",
              "       2017-05-31 00:00:00+00:00  152.76  154.17  152.38  153.97  23162873   \n",
              "       2017-06-01 00:00:00+00:00  153.18  153.33  152.22  153.17  16180143   \n",
              "\n",
              "                                   adjClose    adjHigh     adjLow    adjOpen  \\\n",
              "symbol date                                                                    \n",
              "AAPL   2017-05-25 00:00:00+00:00  36.409270  36.522850  36.210507  36.376143   \n",
              "       2017-05-26 00:00:00+00:00  36.347748  36.496821  36.276761  36.440031   \n",
              "       2017-05-30 00:00:00+00:00  36.361946  36.541780  36.281494  36.302790   \n",
              "       2017-05-31 00:00:00+00:00  36.146618  36.480257  36.056701  36.432933   \n",
              "       2017-06-01 00:00:00+00:00  36.246000  36.281494  36.018841  36.243634   \n",
              "\n",
              "                                  adjVolume  divCash  splitFactor  \n",
              "symbol date                                                        \n",
              "AAPL   2017-05-25 00:00:00+00:00   76177852      0.0          1.0  \n",
              "       2017-05-26 00:00:00+00:00   86528808      0.0          1.0  \n",
              "       2017-05-30 00:00:00+00:00   80139736      0.0          1.0  \n",
              "       2017-05-31 00:00:00+00:00   92651492      0.0          1.0  \n",
              "       2017-06-01 00:00:00+00:00   64720572      0.0          1.0  "
            ],
            "text/html": [
              "\n",
              "  <div id=\"df-b209471c-236a-48d8-98fb-5ffe2bd27995\">\n",
              "    <div class=\"colab-df-container\">\n",
              "      <div>\n",
              "<style scoped>\n",
              "    .dataframe tbody tr th:only-of-type {\n",
              "        vertical-align: middle;\n",
              "    }\n",
              "\n",
              "    .dataframe tbody tr th {\n",
              "        vertical-align: top;\n",
              "    }\n",
              "\n",
              "    .dataframe thead th {\n",
              "        text-align: right;\n",
              "    }\n",
              "</style>\n",
              "<table border=\"1\" class=\"dataframe\">\n",
              "  <thead>\n",
              "    <tr style=\"text-align: right;\">\n",
              "      <th></th>\n",
              "      <th></th>\n",
              "      <th>close</th>\n",
              "      <th>high</th>\n",
              "      <th>low</th>\n",
              "      <th>open</th>\n",
              "      <th>volume</th>\n",
              "      <th>adjClose</th>\n",
              "      <th>adjHigh</th>\n",
              "      <th>adjLow</th>\n",
              "      <th>adjOpen</th>\n",
              "      <th>adjVolume</th>\n",
              "      <th>divCash</th>\n",
              "      <th>splitFactor</th>\n",
              "    </tr>\n",
              "    <tr>\n",
              "      <th>symbol</th>\n",
              "      <th>date</th>\n",
              "      <th></th>\n",
              "      <th></th>\n",
              "      <th></th>\n",
              "      <th></th>\n",
              "      <th></th>\n",
              "      <th></th>\n",
              "      <th></th>\n",
              "      <th></th>\n",
              "      <th></th>\n",
              "      <th></th>\n",
              "      <th></th>\n",
              "      <th></th>\n",
              "    </tr>\n",
              "  </thead>\n",
              "  <tbody>\n",
              "    <tr>\n",
              "      <th rowspan=\"5\" valign=\"top\">AAPL</th>\n",
              "      <th>2017-05-25 00:00:00+00:00</th>\n",
              "      <td>153.87</td>\n",
              "      <td>154.35</td>\n",
              "      <td>153.03</td>\n",
              "      <td>153.73</td>\n",
              "      <td>19044463</td>\n",
              "      <td>36.409270</td>\n",
              "      <td>36.522850</td>\n",
              "      <td>36.210507</td>\n",
              "      <td>36.376143</td>\n",
              "      <td>76177852</td>\n",
              "      <td>0.0</td>\n",
              "      <td>1.0</td>\n",
              "    </tr>\n",
              "    <tr>\n",
              "      <th>2017-05-26 00:00:00+00:00</th>\n",
              "      <td>153.61</td>\n",
              "      <td>154.24</td>\n",
              "      <td>153.31</td>\n",
              "      <td>154.00</td>\n",
              "      <td>21632202</td>\n",
              "      <td>36.347748</td>\n",
              "      <td>36.496821</td>\n",
              "      <td>36.276761</td>\n",
              "      <td>36.440031</td>\n",
              "      <td>86528808</td>\n",
              "      <td>0.0</td>\n",
              "      <td>1.0</td>\n",
              "    </tr>\n",
              "    <tr>\n",
              "      <th>2017-05-30 00:00:00+00:00</th>\n",
              "      <td>153.67</td>\n",
              "      <td>154.43</td>\n",
              "      <td>153.33</td>\n",
              "      <td>153.42</td>\n",
              "      <td>20034934</td>\n",
              "      <td>36.361946</td>\n",
              "      <td>36.541780</td>\n",
              "      <td>36.281494</td>\n",
              "      <td>36.302790</td>\n",
              "      <td>80139736</td>\n",
              "      <td>0.0</td>\n",
              "      <td>1.0</td>\n",
              "    </tr>\n",
              "    <tr>\n",
              "      <th>2017-05-31 00:00:00+00:00</th>\n",
              "      <td>152.76</td>\n",
              "      <td>154.17</td>\n",
              "      <td>152.38</td>\n",
              "      <td>153.97</td>\n",
              "      <td>23162873</td>\n",
              "      <td>36.146618</td>\n",
              "      <td>36.480257</td>\n",
              "      <td>36.056701</td>\n",
              "      <td>36.432933</td>\n",
              "      <td>92651492</td>\n",
              "      <td>0.0</td>\n",
              "      <td>1.0</td>\n",
              "    </tr>\n",
              "    <tr>\n",
              "      <th>2017-06-01 00:00:00+00:00</th>\n",
              "      <td>153.18</td>\n",
              "      <td>153.33</td>\n",
              "      <td>152.22</td>\n",
              "      <td>153.17</td>\n",
              "      <td>16180143</td>\n",
              "      <td>36.246000</td>\n",
              "      <td>36.281494</td>\n",
              "      <td>36.018841</td>\n",
              "      <td>36.243634</td>\n",
              "      <td>64720572</td>\n",
              "      <td>0.0</td>\n",
              "      <td>1.0</td>\n",
              "    </tr>\n",
              "  </tbody>\n",
              "</table>\n",
              "</div>\n",
              "      <button class=\"colab-df-convert\" onclick=\"convertToInteractive('df-b209471c-236a-48d8-98fb-5ffe2bd27995')\"\n",
              "              title=\"Convert this dataframe to an interactive table.\"\n",
              "              style=\"display:none;\">\n",
              "        \n",
              "  <svg xmlns=\"http://www.w3.org/2000/svg\" height=\"24px\"viewBox=\"0 0 24 24\"\n",
              "       width=\"24px\">\n",
              "    <path d=\"M0 0h24v24H0V0z\" fill=\"none\"/>\n",
              "    <path d=\"M18.56 5.44l.94 2.06.94-2.06 2.06-.94-2.06-.94-.94-2.06-.94 2.06-2.06.94zm-11 1L8.5 8.5l.94-2.06 2.06-.94-2.06-.94L8.5 2.5l-.94 2.06-2.06.94zm10 10l.94 2.06.94-2.06 2.06-.94-2.06-.94-.94-2.06-.94 2.06-2.06.94z\"/><path d=\"M17.41 7.96l-1.37-1.37c-.4-.4-.92-.59-1.43-.59-.52 0-1.04.2-1.43.59L10.3 9.45l-7.72 7.72c-.78.78-.78 2.05 0 2.83L4 21.41c.39.39.9.59 1.41.59.51 0 1.02-.2 1.41-.59l7.78-7.78 2.81-2.81c.8-.78.8-2.07 0-2.86zM5.41 20L4 18.59l7.72-7.72 1.47 1.35L5.41 20z\"/>\n",
              "  </svg>\n",
              "      </button>\n",
              "      \n",
              "  <style>\n",
              "    .colab-df-container {\n",
              "      display:flex;\n",
              "      flex-wrap:wrap;\n",
              "      gap: 12px;\n",
              "    }\n",
              "\n",
              "    .colab-df-convert {\n",
              "      background-color: #E8F0FE;\n",
              "      border: none;\n",
              "      border-radius: 50%;\n",
              "      cursor: pointer;\n",
              "      display: none;\n",
              "      fill: #1967D2;\n",
              "      height: 32px;\n",
              "      padding: 0 0 0 0;\n",
              "      width: 32px;\n",
              "    }\n",
              "\n",
              "    .colab-df-convert:hover {\n",
              "      background-color: #E2EBFA;\n",
              "      box-shadow: 0px 1px 2px rgba(60, 64, 67, 0.3), 0px 1px 3px 1px rgba(60, 64, 67, 0.15);\n",
              "      fill: #174EA6;\n",
              "    }\n",
              "\n",
              "    [theme=dark] .colab-df-convert {\n",
              "      background-color: #3B4455;\n",
              "      fill: #D2E3FC;\n",
              "    }\n",
              "\n",
              "    [theme=dark] .colab-df-convert:hover {\n",
              "      background-color: #434B5C;\n",
              "      box-shadow: 0px 1px 3px 1px rgba(0, 0, 0, 0.15);\n",
              "      filter: drop-shadow(0px 1px 2px rgba(0, 0, 0, 0.3));\n",
              "      fill: #FFFFFF;\n",
              "    }\n",
              "  </style>\n",
              "\n",
              "      <script>\n",
              "        const buttonEl =\n",
              "          document.querySelector('#df-b209471c-236a-48d8-98fb-5ffe2bd27995 button.colab-df-convert');\n",
              "        buttonEl.style.display =\n",
              "          google.colab.kernel.accessAllowed ? 'block' : 'none';\n",
              "\n",
              "        async function convertToInteractive(key) {\n",
              "          const element = document.querySelector('#df-b209471c-236a-48d8-98fb-5ffe2bd27995');\n",
              "          const dataTable =\n",
              "            await google.colab.kernel.invokeFunction('convertToInteractive',\n",
              "                                                     [key], {});\n",
              "          if (!dataTable) return;\n",
              "\n",
              "          const docLinkHtml = 'Like what you see? Visit the ' +\n",
              "            '<a target=\"_blank\" href=https://colab.research.google.com/notebooks/data_table.ipynb>data table notebook</a>'\n",
              "            + ' to learn more about interactive tables.';\n",
              "          element.innerHTML = '';\n",
              "          dataTable['output_type'] = 'display_data';\n",
              "          await google.colab.output.renderOutput(dataTable, element);\n",
              "          const docLink = document.createElement('div');\n",
              "          docLink.innerHTML = docLinkHtml;\n",
              "          element.appendChild(docLink);\n",
              "        }\n",
              "      </script>\n",
              "    </div>\n",
              "  </div>\n",
              "  "
            ]
          },
          "metadata": {},
          "execution_count": 6
        }
      ]
    },
    {
      "cell_type": "code",
      "source": [
        "import pandas as pd"
      ],
      "metadata": {
        "id": "N7S9NzZeKlgg"
      },
      "execution_count": 7,
      "outputs": []
    },
    {
      "cell_type": "code",
      "source": [
        "df=pd.read_csv('AAPL.csv')"
      ],
      "metadata": {
        "id": "kDiZgRSjKli9"
      },
      "execution_count": 8,
      "outputs": []
    },
    {
      "cell_type": "code",
      "source": [
        "df.head()"
      ],
      "metadata": {
        "colab": {
          "base_uri": "https://localhost:8080/",
          "height": 206
        },
        "id": "LwHLNzxZKllS",
        "outputId": "518f29d8-3dd1-4673-df13-5e6b422bff45"
      },
      "execution_count": 9,
      "outputs": [
        {
          "output_type": "execute_result",
          "data": {
            "text/plain": [
              "  symbol                       date   close    high     low    open    volume  \\\n",
              "0   AAPL  2017-05-25 00:00:00+00:00  153.87  154.35  153.03  153.73  19044463   \n",
              "1   AAPL  2017-05-26 00:00:00+00:00  153.61  154.24  153.31  154.00  21632202   \n",
              "2   AAPL  2017-05-30 00:00:00+00:00  153.67  154.43  153.33  153.42  20034934   \n",
              "3   AAPL  2017-05-31 00:00:00+00:00  152.76  154.17  152.38  153.97  23162873   \n",
              "4   AAPL  2017-06-01 00:00:00+00:00  153.18  153.33  152.22  153.17  16180143   \n",
              "\n",
              "    adjClose    adjHigh     adjLow    adjOpen  adjVolume  divCash  splitFactor  \n",
              "0  36.409270  36.522850  36.210507  36.376143   76177852      0.0          1.0  \n",
              "1  36.347748  36.496821  36.276761  36.440031   86528808      0.0          1.0  \n",
              "2  36.361946  36.541780  36.281494  36.302790   80139736      0.0          1.0  \n",
              "3  36.146618  36.480257  36.056701  36.432933   92651492      0.0          1.0  \n",
              "4  36.246000  36.281494  36.018841  36.243634   64720572      0.0          1.0  "
            ],
            "text/html": [
              "\n",
              "  <div id=\"df-82ac52bc-b3e7-4e37-ad36-267cf2b915d6\">\n",
              "    <div class=\"colab-df-container\">\n",
              "      <div>\n",
              "<style scoped>\n",
              "    .dataframe tbody tr th:only-of-type {\n",
              "        vertical-align: middle;\n",
              "    }\n",
              "\n",
              "    .dataframe tbody tr th {\n",
              "        vertical-align: top;\n",
              "    }\n",
              "\n",
              "    .dataframe thead th {\n",
              "        text-align: right;\n",
              "    }\n",
              "</style>\n",
              "<table border=\"1\" class=\"dataframe\">\n",
              "  <thead>\n",
              "    <tr style=\"text-align: right;\">\n",
              "      <th></th>\n",
              "      <th>symbol</th>\n",
              "      <th>date</th>\n",
              "      <th>close</th>\n",
              "      <th>high</th>\n",
              "      <th>low</th>\n",
              "      <th>open</th>\n",
              "      <th>volume</th>\n",
              "      <th>adjClose</th>\n",
              "      <th>adjHigh</th>\n",
              "      <th>adjLow</th>\n",
              "      <th>adjOpen</th>\n",
              "      <th>adjVolume</th>\n",
              "      <th>divCash</th>\n",
              "      <th>splitFactor</th>\n",
              "    </tr>\n",
              "  </thead>\n",
              "  <tbody>\n",
              "    <tr>\n",
              "      <th>0</th>\n",
              "      <td>AAPL</td>\n",
              "      <td>2017-05-25 00:00:00+00:00</td>\n",
              "      <td>153.87</td>\n",
              "      <td>154.35</td>\n",
              "      <td>153.03</td>\n",
              "      <td>153.73</td>\n",
              "      <td>19044463</td>\n",
              "      <td>36.409270</td>\n",
              "      <td>36.522850</td>\n",
              "      <td>36.210507</td>\n",
              "      <td>36.376143</td>\n",
              "      <td>76177852</td>\n",
              "      <td>0.0</td>\n",
              "      <td>1.0</td>\n",
              "    </tr>\n",
              "    <tr>\n",
              "      <th>1</th>\n",
              "      <td>AAPL</td>\n",
              "      <td>2017-05-26 00:00:00+00:00</td>\n",
              "      <td>153.61</td>\n",
              "      <td>154.24</td>\n",
              "      <td>153.31</td>\n",
              "      <td>154.00</td>\n",
              "      <td>21632202</td>\n",
              "      <td>36.347748</td>\n",
              "      <td>36.496821</td>\n",
              "      <td>36.276761</td>\n",
              "      <td>36.440031</td>\n",
              "      <td>86528808</td>\n",
              "      <td>0.0</td>\n",
              "      <td>1.0</td>\n",
              "    </tr>\n",
              "    <tr>\n",
              "      <th>2</th>\n",
              "      <td>AAPL</td>\n",
              "      <td>2017-05-30 00:00:00+00:00</td>\n",
              "      <td>153.67</td>\n",
              "      <td>154.43</td>\n",
              "      <td>153.33</td>\n",
              "      <td>153.42</td>\n",
              "      <td>20034934</td>\n",
              "      <td>36.361946</td>\n",
              "      <td>36.541780</td>\n",
              "      <td>36.281494</td>\n",
              "      <td>36.302790</td>\n",
              "      <td>80139736</td>\n",
              "      <td>0.0</td>\n",
              "      <td>1.0</td>\n",
              "    </tr>\n",
              "    <tr>\n",
              "      <th>3</th>\n",
              "      <td>AAPL</td>\n",
              "      <td>2017-05-31 00:00:00+00:00</td>\n",
              "      <td>152.76</td>\n",
              "      <td>154.17</td>\n",
              "      <td>152.38</td>\n",
              "      <td>153.97</td>\n",
              "      <td>23162873</td>\n",
              "      <td>36.146618</td>\n",
              "      <td>36.480257</td>\n",
              "      <td>36.056701</td>\n",
              "      <td>36.432933</td>\n",
              "      <td>92651492</td>\n",
              "      <td>0.0</td>\n",
              "      <td>1.0</td>\n",
              "    </tr>\n",
              "    <tr>\n",
              "      <th>4</th>\n",
              "      <td>AAPL</td>\n",
              "      <td>2017-06-01 00:00:00+00:00</td>\n",
              "      <td>153.18</td>\n",
              "      <td>153.33</td>\n",
              "      <td>152.22</td>\n",
              "      <td>153.17</td>\n",
              "      <td>16180143</td>\n",
              "      <td>36.246000</td>\n",
              "      <td>36.281494</td>\n",
              "      <td>36.018841</td>\n",
              "      <td>36.243634</td>\n",
              "      <td>64720572</td>\n",
              "      <td>0.0</td>\n",
              "      <td>1.0</td>\n",
              "    </tr>\n",
              "  </tbody>\n",
              "</table>\n",
              "</div>\n",
              "      <button class=\"colab-df-convert\" onclick=\"convertToInteractive('df-82ac52bc-b3e7-4e37-ad36-267cf2b915d6')\"\n",
              "              title=\"Convert this dataframe to an interactive table.\"\n",
              "              style=\"display:none;\">\n",
              "        \n",
              "  <svg xmlns=\"http://www.w3.org/2000/svg\" height=\"24px\"viewBox=\"0 0 24 24\"\n",
              "       width=\"24px\">\n",
              "    <path d=\"M0 0h24v24H0V0z\" fill=\"none\"/>\n",
              "    <path d=\"M18.56 5.44l.94 2.06.94-2.06 2.06-.94-2.06-.94-.94-2.06-.94 2.06-2.06.94zm-11 1L8.5 8.5l.94-2.06 2.06-.94-2.06-.94L8.5 2.5l-.94 2.06-2.06.94zm10 10l.94 2.06.94-2.06 2.06-.94-2.06-.94-.94-2.06-.94 2.06-2.06.94z\"/><path d=\"M17.41 7.96l-1.37-1.37c-.4-.4-.92-.59-1.43-.59-.52 0-1.04.2-1.43.59L10.3 9.45l-7.72 7.72c-.78.78-.78 2.05 0 2.83L4 21.41c.39.39.9.59 1.41.59.51 0 1.02-.2 1.41-.59l7.78-7.78 2.81-2.81c.8-.78.8-2.07 0-2.86zM5.41 20L4 18.59l7.72-7.72 1.47 1.35L5.41 20z\"/>\n",
              "  </svg>\n",
              "      </button>\n",
              "      \n",
              "  <style>\n",
              "    .colab-df-container {\n",
              "      display:flex;\n",
              "      flex-wrap:wrap;\n",
              "      gap: 12px;\n",
              "    }\n",
              "\n",
              "    .colab-df-convert {\n",
              "      background-color: #E8F0FE;\n",
              "      border: none;\n",
              "      border-radius: 50%;\n",
              "      cursor: pointer;\n",
              "      display: none;\n",
              "      fill: #1967D2;\n",
              "      height: 32px;\n",
              "      padding: 0 0 0 0;\n",
              "      width: 32px;\n",
              "    }\n",
              "\n",
              "    .colab-df-convert:hover {\n",
              "      background-color: #E2EBFA;\n",
              "      box-shadow: 0px 1px 2px rgba(60, 64, 67, 0.3), 0px 1px 3px 1px rgba(60, 64, 67, 0.15);\n",
              "      fill: #174EA6;\n",
              "    }\n",
              "\n",
              "    [theme=dark] .colab-df-convert {\n",
              "      background-color: #3B4455;\n",
              "      fill: #D2E3FC;\n",
              "    }\n",
              "\n",
              "    [theme=dark] .colab-df-convert:hover {\n",
              "      background-color: #434B5C;\n",
              "      box-shadow: 0px 1px 3px 1px rgba(0, 0, 0, 0.15);\n",
              "      filter: drop-shadow(0px 1px 2px rgba(0, 0, 0, 0.3));\n",
              "      fill: #FFFFFF;\n",
              "    }\n",
              "  </style>\n",
              "\n",
              "      <script>\n",
              "        const buttonEl =\n",
              "          document.querySelector('#df-82ac52bc-b3e7-4e37-ad36-267cf2b915d6 button.colab-df-convert');\n",
              "        buttonEl.style.display =\n",
              "          google.colab.kernel.accessAllowed ? 'block' : 'none';\n",
              "\n",
              "        async function convertToInteractive(key) {\n",
              "          const element = document.querySelector('#df-82ac52bc-b3e7-4e37-ad36-267cf2b915d6');\n",
              "          const dataTable =\n",
              "            await google.colab.kernel.invokeFunction('convertToInteractive',\n",
              "                                                     [key], {});\n",
              "          if (!dataTable) return;\n",
              "\n",
              "          const docLinkHtml = 'Like what you see? Visit the ' +\n",
              "            '<a target=\"_blank\" href=https://colab.research.google.com/notebooks/data_table.ipynb>data table notebook</a>'\n",
              "            + ' to learn more about interactive tables.';\n",
              "          element.innerHTML = '';\n",
              "          dataTable['output_type'] = 'display_data';\n",
              "          await google.colab.output.renderOutput(dataTable, element);\n",
              "          const docLink = document.createElement('div');\n",
              "          docLink.innerHTML = docLinkHtml;\n",
              "          element.appendChild(docLink);\n",
              "        }\n",
              "      </script>\n",
              "    </div>\n",
              "  </div>\n",
              "  "
            ]
          },
          "metadata": {},
          "execution_count": 9
        }
      ]
    },
    {
      "cell_type": "code",
      "source": [
        "df1=df.reset_index()['close']"
      ],
      "metadata": {
        "id": "zcVPldXvKlno"
      },
      "execution_count": 10,
      "outputs": []
    },
    {
      "cell_type": "code",
      "source": [
        "df1.head()"
      ],
      "metadata": {
        "colab": {
          "base_uri": "https://localhost:8080/"
        },
        "id": "v5w4cR8EKlpY",
        "outputId": "b4a73216-0670-4153-fddf-05e52dd93ca5"
      },
      "execution_count": 11,
      "outputs": [
        {
          "output_type": "execute_result",
          "data": {
            "text/plain": [
              "0    153.87\n",
              "1    153.61\n",
              "2    153.67\n",
              "3    152.76\n",
              "4    153.18\n",
              "Name: close, dtype: float64"
            ]
          },
          "metadata": {},
          "execution_count": 11
        }
      ]
    },
    {
      "cell_type": "code",
      "source": [
        "df1.shape"
      ],
      "metadata": {
        "colab": {
          "base_uri": "https://localhost:8080/"
        },
        "id": "JLAibPQ7Klrz",
        "outputId": "fae659f3-97d6-400a-ad45-1111cd88c89b"
      },
      "execution_count": 12,
      "outputs": [
        {
          "output_type": "execute_result",
          "data": {
            "text/plain": [
              "(1258,)"
            ]
          },
          "metadata": {},
          "execution_count": 12
        }
      ]
    },
    {
      "cell_type": "code",
      "source": [
        "import matplotlib.pyplot as plt\n"
      ],
      "metadata": {
        "id": "QuFMJ70CKlta"
      },
      "execution_count": 13,
      "outputs": []
    },
    {
      "cell_type": "code",
      "source": [
        "plt.plot(df1)"
      ],
      "metadata": {
        "colab": {
          "base_uri": "https://localhost:8080/",
          "height": 282
        },
        "id": "Ueautl9SKlvZ",
        "outputId": "4f19fb76-75fa-4f3e-aa34-7818f922b42f"
      },
      "execution_count": 14,
      "outputs": [
        {
          "output_type": "execute_result",
          "data": {
            "text/plain": [
              "[<matplotlib.lines.Line2D at 0x7ff315c59410>]"
            ]
          },
          "metadata": {},
          "execution_count": 14
        },
        {
          "output_type": "display_data",
          "data": {
            "text/plain": [
              "<Figure size 432x288 with 1 Axes>"
            ],
            "image/png": "[encoded data removed]"
          },
          "metadata": {
            "needs_background": "light"
          }
        }
      ]
    },
    {
      "cell_type": "code",
      "source": [
        "from sklearn.preprocessing import MinMaxScaler\n",
        "import numpy as np"
      ],
      "metadata": {
        "id": "CFtcRXv3JpKe"
      },
      "execution_count": 15,
      "outputs": []
    },
    {
      "cell_type": "code",
      "source": [
        "scaler=MinMaxScaler(feature_range=(0,1))\n",
        "df1=scaler.fit_transform(np.array(df1).reshape(-1,1))"
      ],
      "metadata": {
        "id": "Y_LfosNROZk7"
      },
      "execution_count": 16,
      "outputs": []
    },
    {
      "cell_type": "code",
      "source": [
        "type(df1)\n",
        "df1.view()"
      ],
      "metadata": {
        "colab": {
          "base_uri": "https://localhost:8080/"
        },
        "id": "Ev4TrvuZOZnf",
        "outputId": "119ed6a1-9f2f-44d8-d9e1-b2c2d07c2672"
      },
      "execution_count": 17,
      "outputs": [
        {
          "output_type": "execute_result",
          "data": {
            "text/plain": [
              "array([[0.11779587],\n",
              "       [0.11714465],\n",
              "       [0.11729493],\n",
              "       ...,\n",
              "       [0.07641828],\n",
              "       [0.07701941],\n",
              "       [0.09084534]])"
            ]
          },
          "metadata": {},
          "execution_count": 17
        }
      ]
    },
    {
      "cell_type": "code",
      "source": [
        "train_size=int(len(df1)*0.65)\n",
        "test_size=int(len(df1)-train_size)\n",
        "train_data,test_data=df1[0:train_size,:],df1[train_size:len(df1),:1]"
      ],
      "metadata": {
        "id": "cIjO6kE-OZpb"
      },
      "execution_count": 18,
      "outputs": []
    },
    {
      "cell_type": "code",
      "source": [
        "train_data.shape"
      ],
      "metadata": {
        "colab": {
          "base_uri": "https://localhost:8080/"
        },
        "id": "wN9iToxJOZrc",
        "outputId": "16487556-0c02-487d-a127-552280eac61d"
      },
      "execution_count": 19,
      "outputs": [
        {
          "output_type": "execute_result",
          "data": {
            "text/plain": [
              "(817, 1)"
            ]
          },
          "metadata": {},
          "execution_count": 19
        }
      ]
    },
    {
      "cell_type": "code",
      "source": [
        "test_data.shape"
      ],
      "metadata": {
        "colab": {
          "base_uri": "https://localhost:8080/"
        },
        "id": "BC6oywg7OZt5",
        "outputId": "f51fa0b0-d13b-4e34-e0ef-f537916fc748"
      },
      "execution_count": 20,
      "outputs": [
        {
          "output_type": "execute_result",
          "data": {
            "text/plain": [
              "(441, 1)"
            ]
          },
          "metadata": {},
          "execution_count": 20
        }
      ]
    },
    {
      "cell_type": "code",
      "source": [
        "import numpy\n",
        "# convert an array of values into a dataset matrix\n",
        "def create_dataset(dataset, time_step=1):\n",
        "\tdataX, dataY = [], []\n",
        "\tfor i in range(len(dataset)-time_step-1):\n",
        "\t\ta = dataset[i:(i+time_step), 0]   ###i=0, 0,1,2,3-----99   100 \n",
        "\t\tdataX.append(a)\n",
        "\t\tdataY.append(dataset[i + time_step, 0])\n",
        "\treturn numpy.array(dataX), numpy.array(dataY)"
      ],
      "metadata": {
        "id": "PL5ZsUD6OZwE"
      },
      "execution_count": 21,
      "outputs": []
    },
    {
      "cell_type": "code",
      "source": [
        ""
      ],
      "metadata": {
        "id": "t5XclmHj-GWa"
      },
      "execution_count": 21,
      "outputs": []
    },
    {
      "cell_type": "code",
      "source": [
        "timestep=100\n",
        "x_train,y_train=create_dataset(train_data,timestep)\n",
        "x_test,y_test=create_dataset(test_data,timestep)"
      ],
      "metadata": {
        "id": "DrTj_VIEOZyH"
      },
      "execution_count": 22,
      "outputs": []
    },
    {
      "cell_type": "code",
      "source": [
        "print(x_train[0])"
      ],
      "metadata": {
        "colab": {
          "base_uri": "https://localhost:8080/"
        },
        "id": "D0Cx16AFOZ0E",
        "outputId": "93023d17-de1c-4d9e-ad7f-e21a0d72da63"
      },
      "execution_count": 23,
      "outputs": [
        {
          "output_type": "stream",
          "name": "stdout",
          "text": [
            "[0.11779587 0.11714465 0.11729493 0.11501565 0.11606763 0.12175329\n",
            " 0.11794615 0.11924859 0.12155291 0.12060113 0.1055479  0.09663118\n",
            " 0.09956168 0.09597996 0.09380088 0.08874139 0.0989355  0.09560426\n",
            " 0.0977583  0.09715717 0.09878522 0.09763306 0.09239825 0.09765811\n",
            " 0.09227301 0.09312461 0.09182217 0.09329994 0.08989355 0.09352536\n",
            " 0.09572949 0.0969067  0.09743269 0.10251722 0.10569818 0.10700063\n",
            " 0.10830307 0.11065748 0.10895429 0.10877896 0.11333751 0.11496556\n",
            " 0.11676894 0.10950532 0.10685034 0.10492173 0.10822793 0.12598622\n",
            " 0.12205385 0.1241077  0.13016907 0.13335003 0.13580463 0.12142768\n",
            " 0.12683782 0.13277395 0.13715717 0.13552912 0.12778961 0.12688791\n",
            " 0.12616155 0.13259862 0.13309956 0.13132123 0.132799   0.13683156\n",
            " 0.14043832 0.14154039 0.14316844 0.14329368 0.13835942 0.13793363\n",
            " 0.13630557 0.12971822 0.1369067  0.13530369 0.13227301 0.12884158\n",
            " 0.13284909 0.12981841 0.12996869 0.1233062  0.11659361 0.11283657\n",
            " 0.10948028 0.11596744 0.11869756 0.1163181  0.11842204 0.11764559\n",
            " 0.11932373 0.11681904 0.12160301 0.12137758 0.12273012 0.1228804\n",
            " 0.12450845 0.12313087 0.12561052 0.13284909]\n"
          ]
        }
      ]
    },
    {
      "cell_type": "code",
      "source": [
        "print(y_train[0])"
      ],
      "metadata": {
        "colab": {
          "base_uri": "https://localhost:8080/"
        },
        "id": "thDi-DeHOZ2b",
        "outputId": "d51dfa86-66a3-4779-fab5-d3dd4edf0202"
      },
      "execution_count": 24,
      "outputs": [
        {
          "output_type": "stream",
          "name": "stdout",
          "text": [
            "0.1343268628678772\n"
          ]
        }
      ]
    },
    {
      "cell_type": "code",
      "source": [
        "X_train=x_train.reshape(x_train.shape[0],x_train.shape[1],1)\n",
        "X_test=x_test.reshape(x_test.shape[0],x_test.shape[1],1)"
      ],
      "metadata": {
        "id": "yA_hnxkm_EuH"
      },
      "execution_count": 25,
      "outputs": []
    },
    {
      "cell_type": "code",
      "source": [
        "X_train.shape"
      ],
      "metadata": {
        "colab": {
          "base_uri": "https://localhost:8080/"
        },
        "id": "mohp_dvC_Ewc",
        "outputId": "59e8f577-e1f4-4a4b-dcfe-7abe995a0572"
      },
      "execution_count": 26,
      "outputs": [
        {
          "output_type": "execute_result",
          "data": {
            "text/plain": [
              "(716, 100, 1)"
            ]
          },
          "metadata": {},
          "execution_count": 26
        }
      ]
    },
    {
      "cell_type": "code",
      "source": [
        "X_test.shape"
      ],
      "metadata": {
        "id": "9I4dMZSu_EyW",
        "colab": {
          "base_uri": "https://localhost:8080/"
        },
        "outputId": "102d8d0a-886b-4d68-d843-01182371c2d7"
      },
      "execution_count": 27,
      "outputs": [
        {
          "output_type": "execute_result",
          "data": {
            "text/plain": [
              "(340, 100, 1)"
            ]
          },
          "metadata": {},
          "execution_count": 27
        }
      ]
    },
    {
      "cell_type": "code",
      "source": [
        "from tensorflow.keras.models import Sequential\n",
        "from tensorflow.keras.layers import Dense, LSTM"
      ],
      "metadata": {
        "id": "4ixmxYz7_E0o"
      },
      "execution_count": 28,
      "outputs": []
    },
    {
      "cell_type": "code",
      "source": [
        "model=Sequential()\n",
        "model.add(LSTM(50,return_sequences=True,input_shape=(100,1)))\n",
        "model.add(LSTM(50,return_sequences=True))\n",
        "model.add(LSTM(50))\n",
        "model.add(Dense(1))\n",
        "model.compile(loss='mean_squared_error',optimizer='adam')"
      ],
      "metadata": {
        "id": "5MUHCNN4_E2x"
      },
      "execution_count": 29,
      "outputs": []
    },
    {
      "cell_type": "code",
      "source": [
        "model.summary()"
      ],
      "metadata": {
        "colab": {
          "base_uri": "https://localhost:8080/"
        },
        "id": "7Isx9qiCCCnW",
        "outputId": "c09bf4d0-b8ad-40c4-f393-2c642cfce93f"
      },
      "execution_count": 30,
      "outputs": [
        {
          "output_type": "stream",
          "name": "stdout",
          "text": [
            "Model: \"sequential\"\n",
            "_________________________________________________________________\n",
            " Layer (type)                Output Shape              Param #   \n",
            "=================================================================\n",
            " lstm (LSTM)                 (None, 100, 50)           10400     \n",
            "                                                                 \n",
            " lstm_1 (LSTM)               (None, 100, 50)           20200     \n",
            "                                                                 \n",
            " lstm_2 (LSTM)               (None, 50)                20200     \n",
            "                                                                 \n",
            " dense (Dense)               (None, 1)                 51        \n",
            "                                                                 \n",
            "=================================================================\n",
            "Total params: 50,851\n",
            "Trainable params: 50,851\n",
            "Non-trainable params: 0\n",
            "_________________________________________________________________\n"
          ]
        }
      ]
    },
    {
      "cell_type": "code",
      "source": [
        "model.fit(X_train,y_train,validation_data=(X_test,y_test),epochs=100,batch_size=64,verbose=1)"
      ],
      "metadata": {
        "colab": {
          "base_uri": "https://localhost:8080/"
        },
        "id": "t8jMZZhPCCp8",
        "outputId": "bcedfeee-8d56-4c3f-9c2a-89c6740441bb"
      },
      "execution_count": 31,
      "outputs": [
        {
          "output_type": "stream",
          "name": "stdout",
          "text": [
            "Epoch 1/100\n",
            "12/12 [==============================] - 9s 307ms/step - loss: 0.0330 - val_loss: 0.0033\n",
            "Epoch 2/100\n",
            "12/12 [==============================] - 2s 200ms/step - loss: 0.0066 - val_loss: 0.0054\n",
            "Epoch 3/100\n",
            "12/12 [==============================] - 2s 200ms/step - loss: 0.0024 - val_loss: 3.5818e-04\n",
            "Epoch 4/100\n",
            "12/12 [==============================] - 2s 195ms/step - loss: 0.0015 - val_loss: 4.7234e-04\n",
            "Epoch 5/100\n",
            "12/12 [==============================] - 2s 193ms/step - loss: 0.0013 - val_loss: 3.6627e-04\n",
            "Epoch 6/100\n",
            "12/12 [==============================] - 2s 194ms/step - loss: 0.0012 - val_loss: 4.6309e-04\n",
            "Epoch 7/100\n",
            "12/12 [==============================] - 2s 199ms/step - loss: 0.0011 - val_loss: 3.2140e-04\n",
            "Epoch 8/100\n",
            "12/12 [==============================] - 2s 206ms/step - loss: 0.0011 - val_loss: 3.6026e-04\n",
            "Epoch 9/100\n",
            "12/12 [==============================] - 2s 202ms/step - loss: 0.0010 - val_loss: 4.3399e-04\n",
            "Epoch 10/100\n",
            "12/12 [==============================] - 2s 194ms/step - loss: 9.7781e-04 - val_loss: 4.8492e-04\n",
            "Epoch 11/100\n",
            "12/12 [==============================] - 2s 205ms/step - loss: 9.5078e-04 - val_loss: 6.1619e-04\n",
            "Epoch 12/100\n",
            "12/12 [==============================] - 2s 192ms/step - loss: 8.8392e-04 - val_loss: 3.6218e-04\n",
            "Epoch 13/100\n",
            "12/12 [==============================] - 2s 198ms/step - loss: 9.0865e-04 - val_loss: 3.4654e-04\n",
            "Epoch 14/100\n",
            "12/12 [==============================] - 2s 197ms/step - loss: 9.4144e-04 - val_loss: 5.1057e-04\n",
            "Epoch 15/100\n",
            "12/12 [==============================] - 2s 200ms/step - loss: 8.8157e-04 - val_loss: 4.1437e-04\n",
            "Epoch 16/100\n",
            "12/12 [==============================] - 2s 199ms/step - loss: 8.5610e-04 - val_loss: 3.0814e-04\n",
            "Epoch 17/100\n",
            "12/12 [==============================] - 2s 198ms/step - loss: 7.2746e-04 - val_loss: 3.3406e-04\n",
            "Epoch 18/100\n",
            "12/12 [==============================] - 3s 237ms/step - loss: 7.4453e-04 - val_loss: 3.2194e-04\n",
            "Epoch 19/100\n",
            "12/12 [==============================] - 2s 195ms/step - loss: 7.4083e-04 - val_loss: 3.4313e-04\n",
            "Epoch 20/100\n",
            "12/12 [==============================] - 2s 199ms/step - loss: 6.8653e-04 - val_loss: 3.2154e-04\n",
            "Epoch 21/100\n",
            "12/12 [==============================] - 2s 196ms/step - loss: 7.5758e-04 - val_loss: 4.1234e-04\n",
            "Epoch 22/100\n",
            "12/12 [==============================] - 2s 197ms/step - loss: 6.9622e-04 - val_loss: 2.9789e-04\n",
            "Epoch 23/100\n",
            "12/12 [==============================] - 2s 196ms/step - loss: 7.0809e-04 - val_loss: 2.5986e-04\n",
            "Epoch 24/100\n",
            "12/12 [==============================] - 2s 198ms/step - loss: 8.3240e-04 - val_loss: 6.2575e-04\n",
            "Epoch 25/100\n",
            "12/12 [==============================] - 3s 242ms/step - loss: 7.3581e-04 - val_loss: 2.9508e-04\n",
            "Epoch 26/100\n",
            "12/12 [==============================] - 2s 199ms/step - loss: 6.4559e-04 - val_loss: 4.1064e-04\n",
            "Epoch 27/100\n",
            "12/12 [==============================] - 2s 200ms/step - loss: 7.1555e-04 - val_loss: 3.9866e-04\n",
            "Epoch 28/100\n",
            "12/12 [==============================] - 2s 198ms/step - loss: 6.5250e-04 - val_loss: 3.6295e-04\n",
            "Epoch 29/100\n",
            "12/12 [==============================] - 2s 198ms/step - loss: 7.3400e-04 - val_loss: 2.3280e-04\n",
            "Epoch 30/100\n",
            "12/12 [==============================] - 2s 201ms/step - loss: 7.2405e-04 - val_loss: 5.1161e-04\n",
            "Epoch 31/100\n",
            "12/12 [==============================] - 2s 203ms/step - loss: 7.5562e-04 - val_loss: 2.9464e-04\n",
            "Epoch 32/100\n",
            "12/12 [==============================] - 3s 279ms/step - loss: 6.4239e-04 - val_loss: 2.8412e-04\n",
            "Epoch 33/100\n",
            "12/12 [==============================] - 2s 197ms/step - loss: 6.7572e-04 - val_loss: 2.8339e-04\n",
            "Epoch 34/100\n",
            "12/12 [==============================] - 2s 196ms/step - loss: 6.1216e-04 - val_loss: 4.4227e-04\n",
            "Epoch 35/100\n",
            "12/12 [==============================] - 2s 203ms/step - loss: 7.3290e-04 - val_loss: 2.3304e-04\n",
            "Epoch 36/100\n",
            "12/12 [==============================] - 2s 198ms/step - loss: 7.4781e-04 - val_loss: 4.8253e-04\n",
            "Epoch 37/100\n",
            "12/12 [==============================] - 2s 200ms/step - loss: 6.8846e-04 - val_loss: 2.5554e-04\n",
            "Epoch 38/100\n",
            "12/12 [==============================] - 2s 199ms/step - loss: 6.0109e-04 - val_loss: 3.1218e-04\n",
            "Epoch 39/100\n",
            "12/12 [==============================] - 2s 197ms/step - loss: 5.9325e-04 - val_loss: 2.3823e-04\n",
            "Epoch 40/100\n",
            "12/12 [==============================] - 2s 196ms/step - loss: 6.4366e-04 - val_loss: 2.1051e-04\n",
            "Epoch 41/100\n",
            "12/12 [==============================] - 2s 201ms/step - loss: 6.2398e-04 - val_loss: 2.9598e-04\n",
            "Epoch 42/100\n",
            "12/12 [==============================] - 2s 200ms/step - loss: 5.9067e-04 - val_loss: 2.6331e-04\n",
            "Epoch 43/100\n",
            "12/12 [==============================] - 2s 193ms/step - loss: 6.1930e-04 - val_loss: 2.0581e-04\n",
            "Epoch 44/100\n",
            "12/12 [==============================] - 2s 198ms/step - loss: 6.5833e-04 - val_loss: 2.2394e-04\n",
            "Epoch 45/100\n",
            "12/12 [==============================] - 3s 273ms/step - loss: 6.3518e-04 - val_loss: 2.4176e-04\n",
            "Epoch 46/100\n",
            "12/12 [==============================] - 2s 195ms/step - loss: 5.9583e-04 - val_loss: 2.9479e-04\n",
            "Epoch 47/100\n",
            "12/12 [==============================] - 2s 197ms/step - loss: 6.8678e-04 - val_loss: 2.2473e-04\n",
            "Epoch 48/100\n",
            "12/12 [==============================] - 2s 197ms/step - loss: 5.9382e-04 - val_loss: 1.9950e-04\n",
            "Epoch 49/100\n",
            "12/12 [==============================] - 2s 194ms/step - loss: 7.4230e-04 - val_loss: 4.2013e-04\n",
            "Epoch 50/100\n",
            "12/12 [==============================] - 2s 197ms/step - loss: 7.5291e-04 - val_loss: 1.9811e-04\n",
            "Epoch 51/100\n",
            "12/12 [==============================] - 2s 194ms/step - loss: 6.5847e-04 - val_loss: 3.2067e-04\n",
            "Epoch 52/100\n",
            "12/12 [==============================] - 2s 200ms/step - loss: 5.9472e-04 - val_loss: 2.0226e-04\n",
            "Epoch 53/100\n",
            "12/12 [==============================] - 2s 197ms/step - loss: 5.7229e-04 - val_loss: 2.7239e-04\n",
            "Epoch 54/100\n",
            "12/12 [==============================] - 2s 197ms/step - loss: 6.7164e-04 - val_loss: 2.6279e-04\n",
            "Epoch 55/100\n",
            "12/12 [==============================] - 2s 197ms/step - loss: 5.6945e-04 - val_loss: 2.2918e-04\n",
            "Epoch 56/100\n",
            "12/12 [==============================] - 2s 209ms/step - loss: 5.3810e-04 - val_loss: 1.9664e-04\n",
            "Epoch 57/100\n",
            "12/12 [==============================] - 2s 197ms/step - loss: 6.1851e-04 - val_loss: 2.3726e-04\n",
            "Epoch 58/100\n",
            "12/12 [==============================] - 2s 199ms/step - loss: 5.5582e-04 - val_loss: 2.0268e-04\n",
            "Epoch 59/100\n",
            "12/12 [==============================] - 2s 196ms/step - loss: 5.9603e-04 - val_loss: 2.7663e-04\n",
            "Epoch 60/100\n",
            "12/12 [==============================] - 2s 196ms/step - loss: 5.4759e-04 - val_loss: 2.1038e-04\n",
            "Epoch 61/100\n",
            "12/12 [==============================] - 2s 199ms/step - loss: 5.2238e-04 - val_loss: 2.1863e-04\n",
            "Epoch 62/100\n",
            "12/12 [==============================] - 2s 198ms/step - loss: 5.2290e-04 - val_loss: 2.0121e-04\n",
            "Epoch 63/100\n",
            "12/12 [==============================] - 2s 200ms/step - loss: 5.4330e-04 - val_loss: 2.0562e-04\n",
            "Epoch 64/100\n",
            "12/12 [==============================] - 2s 199ms/step - loss: 5.3447e-04 - val_loss: 2.9284e-04\n",
            "Epoch 65/100\n",
            "12/12 [==============================] - 2s 198ms/step - loss: 7.3065e-04 - val_loss: 1.9955e-04\n",
            "Epoch 66/100\n",
            "12/12 [==============================] - 2s 204ms/step - loss: 5.1712e-04 - val_loss: 2.0608e-04\n",
            "Epoch 67/100\n",
            "12/12 [==============================] - 2s 196ms/step - loss: 4.9791e-04 - val_loss: 2.3538e-04\n",
            "Epoch 68/100\n",
            "12/12 [==============================] - 2s 195ms/step - loss: 5.5175e-04 - val_loss: 2.2236e-04\n",
            "Epoch 69/100\n",
            "12/12 [==============================] - 2s 196ms/step - loss: 5.5080e-04 - val_loss: 2.1730e-04\n",
            "Epoch 70/100\n",
            "12/12 [==============================] - 2s 198ms/step - loss: 5.2553e-04 - val_loss: 1.8574e-04\n",
            "Epoch 71/100\n",
            "12/12 [==============================] - 2s 199ms/step - loss: 4.8252e-04 - val_loss: 2.0458e-04\n",
            "Epoch 72/100\n",
            "12/12 [==============================] - 2s 197ms/step - loss: 5.2536e-04 - val_loss: 1.7340e-04\n",
            "Epoch 73/100\n",
            "12/12 [==============================] - 2s 201ms/step - loss: 6.1632e-04 - val_loss: 2.6953e-04\n",
            "Epoch 74/100\n",
            "12/12 [==============================] - 2s 199ms/step - loss: 5.4395e-04 - val_loss: 1.7969e-04\n",
            "Epoch 75/100\n",
            "12/12 [==============================] - 2s 195ms/step - loss: 6.5032e-04 - val_loss: 3.1975e-04\n",
            "Epoch 76/100\n",
            "12/12 [==============================] - 2s 196ms/step - loss: 4.9327e-04 - val_loss: 1.9205e-04\n",
            "Epoch 77/100\n",
            "12/12 [==============================] - 2s 197ms/step - loss: 5.2880e-04 - val_loss: 4.5585e-04\n",
            "Epoch 78/100\n",
            "12/12 [==============================] - 2s 207ms/step - loss: 5.2452e-04 - val_loss: 1.9724e-04\n",
            "Epoch 79/100\n",
            "12/12 [==============================] - 3s 215ms/step - loss: 4.7070e-04 - val_loss: 1.9675e-04\n",
            "Epoch 80/100\n",
            "12/12 [==============================] - 2s 200ms/step - loss: 4.7028e-04 - val_loss: 1.6598e-04\n",
            "Epoch 81/100\n",
            "12/12 [==============================] - 2s 198ms/step - loss: 5.0720e-04 - val_loss: 1.9530e-04\n",
            "Epoch 82/100\n",
            "12/12 [==============================] - 2s 198ms/step - loss: 5.2453e-04 - val_loss: 1.6992e-04\n",
            "Epoch 83/100\n",
            "12/12 [==============================] - 2s 199ms/step - loss: 4.4025e-04 - val_loss: 1.6782e-04\n",
            "Epoch 84/100\n",
            "12/12 [==============================] - 2s 195ms/step - loss: 4.3435e-04 - val_loss: 2.2774e-04\n",
            "Epoch 85/100\n",
            "12/12 [==============================] - 2s 202ms/step - loss: 4.4493e-04 - val_loss: 1.7362e-04\n",
            "Epoch 86/100\n",
            "12/12 [==============================] - 2s 197ms/step - loss: 4.8581e-04 - val_loss: 1.8100e-04\n",
            "Epoch 87/100\n",
            "12/12 [==============================] - 2s 197ms/step - loss: 4.8115e-04 - val_loss: 1.9503e-04\n",
            "Epoch 88/100\n",
            "12/12 [==============================] - 2s 200ms/step - loss: 4.3692e-04 - val_loss: 1.6802e-04\n",
            "Epoch 89/100\n",
            "12/12 [==============================] - 2s 198ms/step - loss: 4.1857e-04 - val_loss: 1.7814e-04\n",
            "Epoch 90/100\n",
            "12/12 [==============================] - 2s 200ms/step - loss: 4.1404e-04 - val_loss: 1.6833e-04\n",
            "Epoch 91/100\n",
            "12/12 [==============================] - 2s 198ms/step - loss: 4.3672e-04 - val_loss: 1.7819e-04\n",
            "Epoch 92/100\n",
            "12/12 [==============================] - 2s 197ms/step - loss: 4.4911e-04 - val_loss: 1.5117e-04\n",
            "Epoch 93/100\n",
            "12/12 [==============================] - 2s 197ms/step - loss: 5.0253e-04 - val_loss: 1.8396e-04\n",
            "Epoch 94/100\n",
            "12/12 [==============================] - 2s 205ms/step - loss: 4.1292e-04 - val_loss: 1.5309e-04\n",
            "Epoch 95/100\n",
            "12/12 [==============================] - 2s 201ms/step - loss: 4.5253e-04 - val_loss: 2.1715e-04\n",
            "Epoch 96/100\n",
            "12/12 [==============================] - 2s 199ms/step - loss: 4.7554e-04 - val_loss: 1.5104e-04\n",
            "Epoch 97/100\n",
            "12/12 [==============================] - 2s 196ms/step - loss: 5.4975e-04 - val_loss: 2.6546e-04\n",
            "Epoch 98/100\n",
            "12/12 [==============================] - 2s 204ms/step - loss: 5.5387e-04 - val_loss: 1.4882e-04\n",
            "Epoch 99/100\n",
            "12/12 [==============================] - 2s 197ms/step - loss: 3.9731e-04 - val_loss: 1.5088e-04\n",
            "Epoch 100/100\n",
            "12/12 [==============================] - 2s 200ms/step - loss: 3.9692e-04 - val_loss: 1.4554e-04\n"
          ]
        },
        {
          "output_type": "execute_result",
          "data": {
            "text/plain": [
              "<keras.callbacks.History at 0x7ff2972f1c10>"
            ]
          },
          "metadata": {},
          "execution_count": 31
        }
      ]
    },
    {
      "cell_type": "code",
      "source": [
        "train_predict=model.predict(X_train)\n",
        "test_predict=model.predict(X_test)"
      ],
      "metadata": {
        "id": "LVKUQAzhCCsL"
      },
      "execution_count": 32,
      "outputs": []
    },
    {
      "cell_type": "code",
      "source": [
        "#Transformation to original form\n",
        "\n",
        "train_predict=scaler.inverse_transform(train_predict)\n",
        "test_predict=scaler.inverse_transform(test_predict)"
      ],
      "metadata": {
        "id": "fXa1IdzwCCuU"
      },
      "execution_count": 33,
      "outputs": []
    },
    {
      "cell_type": "code",
      "source": [
        "train_predict.shape\n"
      ],
      "metadata": {
        "id": "7WSK8Feq_E4j",
        "colab": {
          "base_uri": "https://localhost:8080/"
        },
        "outputId": "32cb3bfd-71ba-4d09-a8c9-ced40d4830b1"
      },
      "execution_count": 34,
      "outputs": [
        {
          "output_type": "execute_result",
          "data": {
            "text/plain": [
              "(716, 1)"
            ]
          },
          "metadata": {},
          "execution_count": 34
        }
      ]
    },
    {
      "cell_type": "code",
      "source": [
        "import math\n",
        "from sklearn.metrics import mean_squared_error"
      ],
      "metadata": {
        "id": "eIX27sAiOZ6d"
      },
      "execution_count": 35,
      "outputs": []
    },
    {
      "cell_type": "code",
      "source": [
        "math.sqrt(mean_squared_error(y_train,train_predict))"
      ],
      "metadata": {
        "id": "OHpzu0mwOZ8s",
        "colab": {
          "base_uri": "https://localhost:8080/"
        },
        "outputId": "0a3e977a-8903-4c59-f1ec-897c00818134"
      },
      "execution_count": 36,
      "outputs": [
        {
          "output_type": "execute_result",
          "data": {
            "text/plain": [
              "231.17470622951822"
            ]
          },
          "metadata": {},
          "execution_count": 36
        }
      ]
    },
    {
      "cell_type": "code",
      "source": [
        "math.sqrt(mean_squared_error(y_test,test_predict))"
      ],
      "metadata": {
        "colab": {
          "base_uri": "https://localhost:8080/"
        },
        "id": "0qPQongAKApj",
        "outputId": "7f82bae5-7d14-442e-9c15-3b767bcad647"
      },
      "execution_count": 37,
      "outputs": [
        {
          "output_type": "execute_result",
          "data": {
            "text/plain": [
              "149.59356389929943"
            ]
          },
          "metadata": {},
          "execution_count": 37
        }
      ]
    },
    {
      "cell_type": "code",
      "source": [
        "### Plotting \n",
        "# shift train predictions for plotting\n",
        "look_back=100\n",
        "trainPredictPlot = numpy.empty_like(df1)\n",
        "trainPredictPlot[:, :] = np.nan\n",
        "trainPredictPlot[look_back:len(train_predict)+look_back, :] = train_predict\n",
        "# shift test predictions for plotting\n",
        "testPredictPlot = numpy.empty_like(df1)\n",
        "testPredictPlot[:, :] = numpy.nan\n",
        "testPredictPlot[len(train_predict)+(look_back*2)+1:len(df1)-1, :] = test_predict\n",
        "# plot baseline and predictions\n",
        "plt.plot(scaler.inverse_transform(df1))\n",
        "plt.plot(trainPredictPlot)\n",
        "plt.plot(testPredictPlot)\n",
        "plt.show()"
      ],
      "metadata": {
        "colab": {
          "base_uri": "https://localhost:8080/",
          "height": 265
        },
        "id": "dM4y76ofKAsP",
        "outputId": "f85220f2-2138-4bea-9145-731894437a13"
      },
      "execution_count": 40,
      "outputs": [
        {
          "output_type": "display_data",
          "data": {
            "text/plain": [
              "<Figure size 432x288 with 1 Axes>"
            ],
            "image/png": "[encoded data removed]"
          },
          "metadata": {
            "needs_background": "light"
          }
        }
      ]
    },
    {
      "cell_type": "code",
      "source": [
        "len(test_data)"
      ],
      "metadata": {
        "colab": {
          "base_uri": "https://localhost:8080/"
        },
        "id": "7jZXWfklKAuX",
        "outputId": "529d56b6-393d-420c-dfa4-8a9b04715a84"
      },
      "execution_count": 41,
      "outputs": [
        {
          "output_type": "execute_result",
          "data": {
            "text/plain": [
              "441"
            ]
          },
          "metadata": {},
          "execution_count": 41
        }
      ]
    },
    {
      "cell_type": "code",
      "source": [
        "x_input=test_data[341:].reshape(1,-1)"
      ],
      "metadata": {
        "id": "Y50N4kIZKAwf"
      },
      "execution_count": 45,
      "outputs": []
    },
    {
      "cell_type": "code",
      "source": [
        "x_input.shape"
      ],
      "metadata": {
        "colab": {
          "base_uri": "https://localhost:8080/"
        },
        "id": "LImNkjNKMKXS",
        "outputId": "376b68fa-75ba-4334-d204-2183cbe096f5"
      },
      "execution_count": 46,
      "outputs": [
        {
          "output_type": "execute_result",
          "data": {
            "text/plain": [
              "(1, 100)"
            ]
          },
          "metadata": {},
          "execution_count": 46
        }
      ]
    },
    {
      "cell_type": "code",
      "source": [
        "temp_input=list(x_input)\n",
        "\n",
        "temp_input=temp_input[0].tolist()\n",
        "temp_input"
      ],
      "metadata": {
        "colab": {
          "base_uri": "https://localhost:8080/"
        },
        "id": "wXbNpxSNMKZM",
        "outputId": "b3377a0c-7bc9-45bd-b5b5-1b2a2e23d357"
      },
      "execution_count": 49,
      "outputs": [
        {
          "output_type": "execute_result",
          "data": {
            "text/plain": [
              "[0.1787351283656856,\n",
              " 0.17715716969317463,\n",
              " 0.18827802128991855,\n",
              " 0.182492172824045,\n",
              " 0.1705197244834063,\n",
              " 0.16320601127113332,\n",
              " 0.16363180964308072,\n",
              " 0.1636819035691922,\n",
              " 0.17092047589229803,\n",
              " 0.17204758922980584,\n",
              " 0.1636819035691922,\n",
              " 0.1658860363180964,\n",
              " 0.15769567939887286,\n",
              " 0.1487539135879774,\n",
              " 0.1444458359423919,\n",
              " 0.13918597370068875,\n",
              " 0.13720726361928615,\n",
              " 0.1325986224170319,\n",
              " 0.13237319974953032,\n",
              " 0.13119599248591102,\n",
              " 0.15902316844082653,\n",
              " 0.17016906700062612,\n",
              " 0.16974326862867878,\n",
              " 0.17282404508453347,\n",
              " 0.165460237946149,\n",
              " 0.16418284283030676,\n",
              " 0.16235441452723853,\n",
              " 0.17029430181590482,\n",
              " 0.17392611145898557,\n",
              " 0.16350657482780212,\n",
              " 0.1547902316844082,\n",
              " 0.15539135879774574,\n",
              " 0.16518472135253592,\n",
              " 0.1645835942391985,\n",
              " 0.15539135879774574,\n",
              " 0.15143393863494048,\n",
              " 0.14396994364433308,\n",
              " 0.13332498434564805,\n",
              " 0.14001252348152782,\n",
              " 0.14529743268628675,\n",
              " 0.14597370068879145,\n",
              " 0.14116468378209135,\n",
              " 0.14958046336881647,\n",
              " 0.1487539135879774,\n",
              " 0.14108954289292414,\n",
              " 0.13139636819035688,\n",
              " 0.1267376330619912,\n",
              " 0.1405385097056981,\n",
              " 0.12944270507201,\n",
              " 0.11994990607388845,\n",
              " 0.10965560425798371,\n",
              " 0.12085159674389478,\n",
              " 0.13212273011897302,\n",
              " 0.13470256731371316,\n",
              " 0.14311834690043823,\n",
              " 0.14662492172824038,\n",
              " 0.1552410770194113,\n",
              " 0.1587226048841578,\n",
              " 0.16839073262366933,\n",
              " 0.17001878522229175,\n",
              " 0.17222291797119593,\n",
              " 0.18063869755792106,\n",
              " 0.1776581089542893,\n",
              " 0.16974326862867878,\n",
              " 0.16899185973700687,\n",
              " 0.1793362554790231,\n",
              " 0.17087038196618654,\n",
              " 0.16278021289918598,\n",
              " 0.1635566687539135,\n",
              " 0.158422041327489,\n",
              " 0.14755165936130238,\n",
              " 0.1523356293049467,\n",
              " 0.15919849718221663,\n",
              " 0.14639949906073885,\n",
              " 0.1458484658735128,\n",
              " 0.15168440826549778,\n",
              " 0.15125860989355033,\n",
              " 0.14922980588603624,\n",
              " 0.13763306199123349,\n",
              " 0.140363180964308,\n",
              " 0.1251346274264245,\n",
              " 0.12455854727614268,\n",
              " 0.14226675015654344,\n",
              " 0.12726361928616153,\n",
              " 0.12804007514088916,\n",
              " 0.13184721352536,\n",
              " 0.14822792736380713,\n",
              " 0.12505948653725735,\n",
              " 0.12633688165309953,\n",
              " 0.11326236693800873,\n",
              " 0.11939887288666245,\n",
              " 0.09933625547902314,\n",
              " 0.08946775203506574,\n",
              " 0.10086412022542268,\n",
              " 0.09693174702567309,\n",
              " 0.10619912335629306,\n",
              " 0.08510958046336875,\n",
              " 0.0764182842830306,\n",
              " 0.07701941139636814,\n",
              " 0.09084533500313086]"
            ]
          },
          "metadata": {},
          "execution_count": 49
        }
      ]
    },
    {
      "cell_type": "code",
      "source": [
        "# demonstrate prediction for next 10 days\n",
        "from numpy import array\n",
        "\n",
        "lst_output=[]\n",
        "n_steps=100\n",
        "i=0\n",
        "while(i<30):\n",
        "    \n",
        "    if(len(temp_input)>100):\n",
        "        #print(temp_input)\n",
        "        x_input=np.array(temp_input[1:])\n",
        "        print(\"{} day input {}\".format(i,x_input))\n",
        "        x_input=x_input.reshape(1,-1)\n",
        "        x_input = x_input.reshape((1, n_steps, 1))\n",
        "        #print(x_input)\n",
        "        yhat = model.predict(x_input, verbose=0)\n",
        "        print(\"{} day output {}\".format(i,yhat))\n",
        "        temp_input.extend(yhat[0].tolist())\n",
        "        temp_input=temp_input[1:]\n",
        "        #print(temp_input)\n",
        "        lst_output.extend(yhat.tolist())\n",
        "        i=i+1\n",
        "    else:\n",
        "        x_input = x_input.reshape((1, n_steps,1))\n",
        "        yhat = model.predict(x_input, verbose=0)\n",
        "        print(yhat[0])\n",
        "        temp_input.extend(yhat[0].tolist())\n",
        "        print(len(temp_input))\n",
        "        lst_output.extend(yhat.tolist())\n",
        "        i=i+1\n",
        "    \n",
        "\n",
        "print(lst_output)"
      ],
      "metadata": {
        "colab": {
          "base_uri": "https://localhost:8080/"
        },
        "id": "IqWlm4HeMKbV",
        "outputId": "c9a485f2-8702-420c-9a48-bf489d170718"
      },
      "execution_count": 50,
      "outputs": [
        {
          "output_type": "stream",
          "name": "stdout",
          "text": [
            "[0.09235726]\n",
            "101\n",
            "1 day input [0.17715717 0.18827802 0.18249217 0.17051972 0.16320601 0.16363181\n",
            " 0.1636819  0.17092048 0.17204759 0.1636819  0.16588604 0.15769568\n",
            " 0.14875391 0.14444584 0.13918597 0.13720726 0.13259862 0.1323732\n",
            " 0.13119599 0.15902317 0.17016907 0.16974327 0.17282405 0.16546024\n",
            " 0.16418284 0.16235441 0.1702943  0.17392611 0.16350657 0.15479023\n",
            " 0.15539136 0.16518472 0.16458359 0.15539136 0.15143394 0.14396994\n",
            " 0.13332498 0.14001252 0.14529743 0.1459737  0.14116468 0.14958046\n",
            " 0.14875391 0.14108954 0.13139637 0.12673763 0.14053851 0.12944271\n",
            " 0.11994991 0.1096556  0.1208516  0.13212273 0.13470257 0.14311835\n",
            " 0.14662492 0.15524108 0.1587226  0.16839073 0.17001879 0.17222292\n",
            " 0.1806387  0.17765811 0.16974327 0.16899186 0.17933626 0.17087038\n",
            " 0.16278021 0.16355667 0.15842204 0.14755166 0.15233563 0.1591985\n",
            " 0.1463995  0.14584847 0.15168441 0.15125861 0.14922981 0.13763306\n",
            " 0.14036318 0.12513463 0.12455855 0.14226675 0.12726362 0.12804008\n",
            " 0.13184721 0.14822793 0.12505949 0.12633688 0.11326237 0.11939887\n",
            " 0.09933626 0.08946775 0.10086412 0.09693175 0.10619912 0.08510958\n",
            " 0.07641828 0.07701941 0.09084534 0.09235726]\n",
            "1 day output [[0.09014954]]\n",
            "2 day input [0.18827802 0.18249217 0.17051972 0.16320601 0.16363181 0.1636819\n",
            " 0.17092048 0.17204759 0.1636819  0.16588604 0.15769568 0.14875391\n",
            " 0.14444584 0.13918597 0.13720726 0.13259862 0.1323732  0.13119599\n",
            " 0.15902317 0.17016907 0.16974327 0.17282405 0.16546024 0.16418284\n",
            " 0.16235441 0.1702943  0.17392611 0.16350657 0.15479023 0.15539136\n",
            " 0.16518472 0.16458359 0.15539136 0.15143394 0.14396994 0.13332498\n",
            " 0.14001252 0.14529743 0.1459737  0.14116468 0.14958046 0.14875391\n",
            " 0.14108954 0.13139637 0.12673763 0.14053851 0.12944271 0.11994991\n",
            " 0.1096556  0.1208516  0.13212273 0.13470257 0.14311835 0.14662492\n",
            " 0.15524108 0.1587226  0.16839073 0.17001879 0.17222292 0.1806387\n",
            " 0.17765811 0.16974327 0.16899186 0.17933626 0.17087038 0.16278021\n",
            " 0.16355667 0.15842204 0.14755166 0.15233563 0.1591985  0.1463995\n",
            " 0.14584847 0.15168441 0.15125861 0.14922981 0.13763306 0.14036318\n",
            " 0.12513463 0.12455855 0.14226675 0.12726362 0.12804008 0.13184721\n",
            " 0.14822793 0.12505949 0.12633688 0.11326237 0.11939887 0.09933626\n",
            " 0.08946775 0.10086412 0.09693175 0.10619912 0.08510958 0.07641828\n",
            " 0.07701941 0.09084534 0.09235726 0.09014954]\n",
            "2 day output [[0.08899286]]\n",
            "3 day input [0.18249217 0.17051972 0.16320601 0.16363181 0.1636819  0.17092048\n",
            " 0.17204759 0.1636819  0.16588604 0.15769568 0.14875391 0.14444584\n",
            " 0.13918597 0.13720726 0.13259862 0.1323732  0.13119599 0.15902317\n",
            " 0.17016907 0.16974327 0.17282405 0.16546024 0.16418284 0.16235441\n",
            " 0.1702943  0.17392611 0.16350657 0.15479023 0.15539136 0.16518472\n",
            " 0.16458359 0.15539136 0.15143394 0.14396994 0.13332498 0.14001252\n",
            " 0.14529743 0.1459737  0.14116468 0.14958046 0.14875391 0.14108954\n",
            " 0.13139637 0.12673763 0.14053851 0.12944271 0.11994991 0.1096556\n",
            " 0.1208516  0.13212273 0.13470257 0.14311835 0.14662492 0.15524108\n",
            " 0.1587226  0.16839073 0.17001879 0.17222292 0.1806387  0.17765811\n",
            " 0.16974327 0.16899186 0.17933626 0.17087038 0.16278021 0.16355667\n",
            " 0.15842204 0.14755166 0.15233563 0.1591985  0.1463995  0.14584847\n",
            " 0.15168441 0.15125861 0.14922981 0.13763306 0.14036318 0.12513463\n",
            " 0.12455855 0.14226675 0.12726362 0.12804008 0.13184721 0.14822793\n",
            " 0.12505949 0.12633688 0.11326237 0.11939887 0.09933626 0.08946775\n",
            " 0.10086412 0.09693175 0.10619912 0.08510958 0.07641828 0.07701941\n",
            " 0.09084534 0.09235726 0.09014954 0.08899286]\n",
            "3 day output [[0.08860955]]\n",
            "4 day input [0.17051972 0.16320601 0.16363181 0.1636819  0.17092048 0.17204759\n",
            " 0.1636819  0.16588604 0.15769568 0.14875391 0.14444584 0.13918597\n",
            " 0.13720726 0.13259862 0.1323732  0.13119599 0.15902317 0.17016907\n",
            " 0.16974327 0.17282405 0.16546024 0.16418284 0.16235441 0.1702943\n",
            " 0.17392611 0.16350657 0.15479023 0.15539136 0.16518472 0.16458359\n",
            " 0.15539136 0.15143394 0.14396994 0.13332498 0.14001252 0.14529743\n",
            " 0.1459737  0.14116468 0.14958046 0.14875391 0.14108954 0.13139637\n",
            " 0.12673763 0.14053851 0.12944271 0.11994991 0.1096556  0.1208516\n",
            " 0.13212273 0.13470257 0.14311835 0.14662492 0.15524108 0.1587226\n",
            " 0.16839073 0.17001879 0.17222292 0.1806387  0.17765811 0.16974327\n",
            " 0.16899186 0.17933626 0.17087038 0.16278021 0.16355667 0.15842204\n",
            " 0.14755166 0.15233563 0.1591985  0.1463995  0.14584847 0.15168441\n",
            " 0.15125861 0.14922981 0.13763306 0.14036318 0.12513463 0.12455855\n",
            " 0.14226675 0.12726362 0.12804008 0.13184721 0.14822793 0.12505949\n",
            " 0.12633688 0.11326237 0.11939887 0.09933626 0.08946775 0.10086412\n",
            " 0.09693175 0.10619912 0.08510958 0.07641828 0.07701941 0.09084534\n",
            " 0.09235726 0.09014954 0.08899286 0.08860955]\n",
            "4 day output [[0.08873793]]\n",
            "5 day input [0.16320601 0.16363181 0.1636819  0.17092048 0.17204759 0.1636819\n",
            " 0.16588604 0.15769568 0.14875391 0.14444584 0.13918597 0.13720726\n",
            " 0.13259862 0.1323732  0.13119599 0.15902317 0.17016907 0.16974327\n",
            " 0.17282405 0.16546024 0.16418284 0.16235441 0.1702943  0.17392611\n",
            " 0.16350657 0.15479023 0.15539136 0.16518472 0.16458359 0.15539136\n",
            " 0.15143394 0.14396994 0.13332498 0.14001252 0.14529743 0.1459737\n",
            " 0.14116468 0.14958046 0.14875391 0.14108954 0.13139637 0.12673763\n",
            " 0.14053851 0.12944271 0.11994991 0.1096556  0.1208516  0.13212273\n",
            " 0.13470257 0.14311835 0.14662492 0.15524108 0.1587226  0.16839073\n",
            " 0.17001879 0.17222292 0.1806387  0.17765811 0.16974327 0.16899186\n",
            " 0.17933626 0.17087038 0.16278021 0.16355667 0.15842204 0.14755166\n",
            " 0.15233563 0.1591985  0.1463995  0.14584847 0.15168441 0.15125861\n",
            " 0.14922981 0.13763306 0.14036318 0.12513463 0.12455855 0.14226675\n",
            " 0.12726362 0.12804008 0.13184721 0.14822793 0.12505949 0.12633688\n",
            " 0.11326237 0.11939887 0.09933626 0.08946775 0.10086412 0.09693175\n",
            " 0.10619912 0.08510958 0.07641828 0.07701941 0.09084534 0.09235726\n",
            " 0.09014954 0.08899286 0.08860955 0.08873793]\n",
            "5 day output [[0.08918069]]\n",
            "6 day input [0.16363181 0.1636819  0.17092048 0.17204759 0.1636819  0.16588604\n",
            " 0.15769568 0.14875391 0.14444584 0.13918597 0.13720726 0.13259862\n",
            " 0.1323732  0.13119599 0.15902317 0.17016907 0.16974327 0.17282405\n",
            " 0.16546024 0.16418284 0.16235441 0.1702943  0.17392611 0.16350657\n",
            " 0.15479023 0.15539136 0.16518472 0.16458359 0.15539136 0.15143394\n",
            " 0.14396994 0.13332498 0.14001252 0.14529743 0.1459737  0.14116468\n",
            " 0.14958046 0.14875391 0.14108954 0.13139637 0.12673763 0.14053851\n",
            " 0.12944271 0.11994991 0.1096556  0.1208516  0.13212273 0.13470257\n",
            " 0.14311835 0.14662492 0.15524108 0.1587226  0.16839073 0.17001879\n",
            " 0.17222292 0.1806387  0.17765811 0.16974327 0.16899186 0.17933626\n",
            " 0.17087038 0.16278021 0.16355667 0.15842204 0.14755166 0.15233563\n",
            " 0.1591985  0.1463995  0.14584847 0.15168441 0.15125861 0.14922981\n",
            " 0.13763306 0.14036318 0.12513463 0.12455855 0.14226675 0.12726362\n",
            " 0.12804008 0.13184721 0.14822793 0.12505949 0.12633688 0.11326237\n",
            " 0.11939887 0.09933626 0.08946775 0.10086412 0.09693175 0.10619912\n",
            " 0.08510958 0.07641828 0.07701941 0.09084534 0.09235726 0.09014954\n",
            " 0.08899286 0.08860955 0.08873793 0.08918069]\n",
            "6 day output [[0.08980613]]\n",
            "7 day input [0.1636819  0.17092048 0.17204759 0.1636819  0.16588604 0.15769568\n",
            " 0.14875391 0.14444584 0.13918597 0.13720726 0.13259862 0.1323732\n",
            " 0.13119599 0.15902317 0.17016907 0.16974327 0.17282405 0.16546024\n",
            " 0.16418284 0.16235441 0.1702943  0.17392611 0.16350657 0.15479023\n",
            " 0.15539136 0.16518472 0.16458359 0.15539136 0.15143394 0.14396994\n",
            " 0.13332498 0.14001252 0.14529743 0.1459737  0.14116468 0.14958046\n",
            " 0.14875391 0.14108954 0.13139637 0.12673763 0.14053851 0.12944271\n",
            " 0.11994991 0.1096556  0.1208516  0.13212273 0.13470257 0.14311835\n",
            " 0.14662492 0.15524108 0.1587226  0.16839073 0.17001879 0.17222292\n",
            " 0.1806387  0.17765811 0.16974327 0.16899186 0.17933626 0.17087038\n",
            " 0.16278021 0.16355667 0.15842204 0.14755166 0.15233563 0.1591985\n",
            " 0.1463995  0.14584847 0.15168441 0.15125861 0.14922981 0.13763306\n",
            " 0.14036318 0.12513463 0.12455855 0.14226675 0.12726362 0.12804008\n",
            " 0.13184721 0.14822793 0.12505949 0.12633688 0.11326237 0.11939887\n",
            " 0.09933626 0.08946775 0.10086412 0.09693175 0.10619912 0.08510958\n",
            " 0.07641828 0.07701941 0.09084534 0.09235726 0.09014954 0.08899286\n",
            " 0.08860955 0.08873793 0.08918069 0.08980613]\n",
            "7 day output [[0.09053321]]\n",
            "8 day input [0.17092048 0.17204759 0.1636819  0.16588604 0.15769568 0.14875391\n",
            " 0.14444584 0.13918597 0.13720726 0.13259862 0.1323732  0.13119599\n",
            " 0.15902317 0.17016907 0.16974327 0.17282405 0.16546024 0.16418284\n",
            " 0.16235441 0.1702943  0.17392611 0.16350657 0.15479023 0.15539136\n",
            " 0.16518472 0.16458359 0.15539136 0.15143394 0.14396994 0.13332498\n",
            " 0.14001252 0.14529743 0.1459737  0.14116468 0.14958046 0.14875391\n",
            " 0.14108954 0.13139637 0.12673763 0.14053851 0.12944271 0.11994991\n",
            " 0.1096556  0.1208516  0.13212273 0.13470257 0.14311835 0.14662492\n",
            " 0.15524108 0.1587226  0.16839073 0.17001879 0.17222292 0.1806387\n",
            " 0.17765811 0.16974327 0.16899186 0.17933626 0.17087038 0.16278021\n",
            " 0.16355667 0.15842204 0.14755166 0.15233563 0.1591985  0.1463995\n",
            " 0.14584847 0.15168441 0.15125861 0.14922981 0.13763306 0.14036318\n",
            " 0.12513463 0.12455855 0.14226675 0.12726362 0.12804008 0.13184721\n",
            " 0.14822793 0.12505949 0.12633688 0.11326237 0.11939887 0.09933626\n",
            " 0.08946775 0.10086412 0.09693175 0.10619912 0.08510958 0.07641828\n",
            " 0.07701941 0.09084534 0.09235726 0.09014954 0.08899286 0.08860955\n",
            " 0.08873793 0.08918069 0.08980613 0.09053321]\n",
            "8 day output [[0.0913147]]\n",
            "9 day input [0.17204759 0.1636819  0.16588604 0.15769568 0.14875391 0.14444584\n",
            " 0.13918597 0.13720726 0.13259862 0.1323732  0.13119599 0.15902317\n",
            " 0.17016907 0.16974327 0.17282405 0.16546024 0.16418284 0.16235441\n",
            " 0.1702943  0.17392611 0.16350657 0.15479023 0.15539136 0.16518472\n",
            " 0.16458359 0.15539136 0.15143394 0.14396994 0.13332498 0.14001252\n",
            " 0.14529743 0.1459737  0.14116468 0.14958046 0.14875391 0.14108954\n",
            " 0.13139637 0.12673763 0.14053851 0.12944271 0.11994991 0.1096556\n",
            " 0.1208516  0.13212273 0.13470257 0.14311835 0.14662492 0.15524108\n",
            " 0.1587226  0.16839073 0.17001879 0.17222292 0.1806387  0.17765811\n",
            " 0.16974327 0.16899186 0.17933626 0.17087038 0.16278021 0.16355667\n",
            " 0.15842204 0.14755166 0.15233563 0.1591985  0.1463995  0.14584847\n",
            " 0.15168441 0.15125861 0.14922981 0.13763306 0.14036318 0.12513463\n",
            " 0.12455855 0.14226675 0.12726362 0.12804008 0.13184721 0.14822793\n",
            " 0.12505949 0.12633688 0.11326237 0.11939887 0.09933626 0.08946775\n",
            " 0.10086412 0.09693175 0.10619912 0.08510958 0.07641828 0.07701941\n",
            " 0.09084534 0.09235726 0.09014954 0.08899286 0.08860955 0.08873793\n",
            " 0.08918069 0.08980613 0.09053321 0.0913147 ]\n",
            "9 day output [[0.09212357]]\n",
            "10 day input [0.1636819  0.16588604 0.15769568 0.14875391 0.14444584 0.13918597\n",
            " 0.13720726 0.13259862 0.1323732  0.13119599 0.15902317 0.17016907\n",
            " 0.16974327 0.17282405 0.16546024 0.16418284 0.16235441 0.1702943\n",
            " 0.17392611 0.16350657 0.15479023 0.15539136 0.16518472 0.16458359\n",
            " 0.15539136 0.15143394 0.14396994 0.13332498 0.14001252 0.14529743\n",
            " 0.1459737  0.14116468 0.14958046 0.14875391 0.14108954 0.13139637\n",
            " 0.12673763 0.14053851 0.12944271 0.11994991 0.1096556  0.1208516\n",
            " 0.13212273 0.13470257 0.14311835 0.14662492 0.15524108 0.1587226\n",
            " 0.16839073 0.17001879 0.17222292 0.1806387  0.17765811 0.16974327\n",
            " 0.16899186 0.17933626 0.17087038 0.16278021 0.16355667 0.15842204\n",
            " 0.14755166 0.15233563 0.1591985  0.1463995  0.14584847 0.15168441\n",
            " 0.15125861 0.14922981 0.13763306 0.14036318 0.12513463 0.12455855\n",
            " 0.14226675 0.12726362 0.12804008 0.13184721 0.14822793 0.12505949\n",
            " 0.12633688 0.11326237 0.11939887 0.09933626 0.08946775 0.10086412\n",
            " 0.09693175 0.10619912 0.08510958 0.07641828 0.07701941 0.09084534\n",
            " 0.09235726 0.09014954 0.08899286 0.08860955 0.08873793 0.08918069\n",
            " 0.08980613 0.09053321 0.0913147  0.09212357]\n",
            "10 day output [[0.092944]]\n",
            "11 day input [0.16588604 0.15769568 0.14875391 0.14444584 0.13918597 0.13720726\n",
            " 0.13259862 0.1323732  0.13119599 0.15902317 0.17016907 0.16974327\n",
            " 0.17282405 0.16546024 0.16418284 0.16235441 0.1702943  0.17392611\n",
            " 0.16350657 0.15479023 0.15539136 0.16518472 0.16458359 0.15539136\n",
            " 0.15143394 0.14396994 0.13332498 0.14001252 0.14529743 0.1459737\n",
            " 0.14116468 0.14958046 0.14875391 0.14108954 0.13139637 0.12673763\n",
            " 0.14053851 0.12944271 0.11994991 0.1096556  0.1208516  0.13212273\n",
            " 0.13470257 0.14311835 0.14662492 0.15524108 0.1587226  0.16839073\n",
            " 0.17001879 0.17222292 0.1806387  0.17765811 0.16974327 0.16899186\n",
            " 0.17933626 0.17087038 0.16278021 0.16355667 0.15842204 0.14755166\n",
            " 0.15233563 0.1591985  0.1463995  0.14584847 0.15168441 0.15125861\n",
            " 0.14922981 0.13763306 0.14036318 0.12513463 0.12455855 0.14226675\n",
            " 0.12726362 0.12804008 0.13184721 0.14822793 0.12505949 0.12633688\n",
            " 0.11326237 0.11939887 0.09933626 0.08946775 0.10086412 0.09693175\n",
            " 0.10619912 0.08510958 0.07641828 0.07701941 0.09084534 0.09235726\n",
            " 0.09014954 0.08899286 0.08860955 0.08873793 0.08918069 0.08980613\n",
            " 0.09053321 0.0913147  0.09212357 0.092944  ]\n",
            "11 day output [[0.09376591]]\n",
            "12 day input [0.15769568 0.14875391 0.14444584 0.13918597 0.13720726 0.13259862\n",
            " 0.1323732  0.13119599 0.15902317 0.17016907 0.16974327 0.17282405\n",
            " 0.16546024 0.16418284 0.16235441 0.1702943  0.17392611 0.16350657\n",
            " 0.15479023 0.15539136 0.16518472 0.16458359 0.15539136 0.15143394\n",
            " 0.14396994 0.13332498 0.14001252 0.14529743 0.1459737  0.14116468\n",
            " 0.14958046 0.14875391 0.14108954 0.13139637 0.12673763 0.14053851\n",
            " 0.12944271 0.11994991 0.1096556  0.1208516  0.13212273 0.13470257\n",
            " 0.14311835 0.14662492 0.15524108 0.1587226  0.16839073 0.17001879\n",
            " 0.17222292 0.1806387  0.17765811 0.16974327 0.16899186 0.17933626\n",
            " 0.17087038 0.16278021 0.16355667 0.15842204 0.14755166 0.15233563\n",
            " 0.1591985  0.1463995  0.14584847 0.15168441 0.15125861 0.14922981\n",
            " 0.13763306 0.14036318 0.12513463 0.12455855 0.14226675 0.12726362\n",
            " 0.12804008 0.13184721 0.14822793 0.12505949 0.12633688 0.11326237\n",
            " 0.11939887 0.09933626 0.08946775 0.10086412 0.09693175 0.10619912\n",
            " 0.08510958 0.07641828 0.07701941 0.09084534 0.09235726 0.09014954\n",
            " 0.08899286 0.08860955 0.08873793 0.08918069 0.08980613 0.09053321\n",
            " 0.0913147  0.09212357 0.092944   0.09376591]\n",
            "12 day output [[0.09458195]]\n",
            "13 day input [0.14875391 0.14444584 0.13918597 0.13720726 0.13259862 0.1323732\n",
            " 0.13119599 0.15902317 0.17016907 0.16974327 0.17282405 0.16546024\n",
            " 0.16418284 0.16235441 0.1702943  0.17392611 0.16350657 0.15479023\n",
            " 0.15539136 0.16518472 0.16458359 0.15539136 0.15143394 0.14396994\n",
            " 0.13332498 0.14001252 0.14529743 0.1459737  0.14116468 0.14958046\n",
            " 0.14875391 0.14108954 0.13139637 0.12673763 0.14053851 0.12944271\n",
            " 0.11994991 0.1096556  0.1208516  0.13212273 0.13470257 0.14311835\n",
            " 0.14662492 0.15524108 0.1587226  0.16839073 0.17001879 0.17222292\n",
            " 0.1806387  0.17765811 0.16974327 0.16899186 0.17933626 0.17087038\n",
            " 0.16278021 0.16355667 0.15842204 0.14755166 0.15233563 0.1591985\n",
            " 0.1463995  0.14584847 0.15168441 0.15125861 0.14922981 0.13763306\n",
            " 0.14036318 0.12513463 0.12455855 0.14226675 0.12726362 0.12804008\n",
            " 0.13184721 0.14822793 0.12505949 0.12633688 0.11326237 0.11939887\n",
            " 0.09933626 0.08946775 0.10086412 0.09693175 0.10619912 0.08510958\n",
            " 0.07641828 0.07701941 0.09084534 0.09235726 0.09014954 0.08899286\n",
            " 0.08860955 0.08873793 0.08918069 0.08980613 0.09053321 0.0913147\n",
            " 0.09212357 0.092944   0.09376591 0.09458195]\n",
            "13 day output [[0.09538648]]\n",
            "14 day input [0.14444584 0.13918597 0.13720726 0.13259862 0.1323732  0.13119599\n",
            " 0.15902317 0.17016907 0.16974327 0.17282405 0.16546024 0.16418284\n",
            " 0.16235441 0.1702943  0.17392611 0.16350657 0.15479023 0.15539136\n",
            " 0.16518472 0.16458359 0.15539136 0.15143394 0.14396994 0.13332498\n",
            " 0.14001252 0.14529743 0.1459737  0.14116468 0.14958046 0.14875391\n",
            " 0.14108954 0.13139637 0.12673763 0.14053851 0.12944271 0.11994991\n",
            " 0.1096556  0.1208516  0.13212273 0.13470257 0.14311835 0.14662492\n",
            " 0.15524108 0.1587226  0.16839073 0.17001879 0.17222292 0.1806387\n",
            " 0.17765811 0.16974327 0.16899186 0.17933626 0.17087038 0.16278021\n",
            " 0.16355667 0.15842204 0.14755166 0.15233563 0.1591985  0.1463995\n",
            " 0.14584847 0.15168441 0.15125861 0.14922981 0.13763306 0.14036318\n",
            " 0.12513463 0.12455855 0.14226675 0.12726362 0.12804008 0.13184721\n",
            " 0.14822793 0.12505949 0.12633688 0.11326237 0.11939887 0.09933626\n",
            " 0.08946775 0.10086412 0.09693175 0.10619912 0.08510958 0.07641828\n",
            " 0.07701941 0.09084534 0.09235726 0.09014954 0.08899286 0.08860955\n",
            " 0.08873793 0.08918069 0.08980613 0.09053321 0.0913147  0.09212357\n",
            " 0.092944   0.09376591 0.09458195 0.09538648]\n",
            "14 day output [[0.09617463]]\n",
            "15 day input [0.13918597 0.13720726 0.13259862 0.1323732  0.13119599 0.15902317\n",
            " 0.17016907 0.16974327 0.17282405 0.16546024 0.16418284 0.16235441\n",
            " 0.1702943  0.17392611 0.16350657 0.15479023 0.15539136 0.16518472\n",
            " 0.16458359 0.15539136 0.15143394 0.14396994 0.13332498 0.14001252\n",
            " 0.14529743 0.1459737  0.14116468 0.14958046 0.14875391 0.14108954\n",
            " 0.13139637 0.12673763 0.14053851 0.12944271 0.11994991 0.1096556\n",
            " 0.1208516  0.13212273 0.13470257 0.14311835 0.14662492 0.15524108\n",
            " 0.1587226  0.16839073 0.17001879 0.17222292 0.1806387  0.17765811\n",
            " 0.16974327 0.16899186 0.17933626 0.17087038 0.16278021 0.16355667\n",
            " 0.15842204 0.14755166 0.15233563 0.1591985  0.1463995  0.14584847\n",
            " 0.15168441 0.15125861 0.14922981 0.13763306 0.14036318 0.12513463\n",
            " 0.12455855 0.14226675 0.12726362 0.12804008 0.13184721 0.14822793\n",
            " 0.12505949 0.12633688 0.11326237 0.11939887 0.09933626 0.08946775\n",
            " 0.10086412 0.09693175 0.10619912 0.08510958 0.07641828 0.07701941\n",
            " 0.09084534 0.09235726 0.09014954 0.08899286 0.08860955 0.08873793\n",
            " 0.08918069 0.08980613 0.09053321 0.0913147  0.09212357 0.092944\n",
            " 0.09376591 0.09458195 0.09538648 0.09617463]\n",
            "15 day output [[0.09694254]]\n",
            "16 day input [0.13720726 0.13259862 0.1323732  0.13119599 0.15902317 0.17016907\n",
            " 0.16974327 0.17282405 0.16546024 0.16418284 0.16235441 0.1702943\n",
            " 0.17392611 0.16350657 0.15479023 0.15539136 0.16518472 0.16458359\n",
            " 0.15539136 0.15143394 0.14396994 0.13332498 0.14001252 0.14529743\n",
            " 0.1459737  0.14116468 0.14958046 0.14875391 0.14108954 0.13139637\n",
            " 0.12673763 0.14053851 0.12944271 0.11994991 0.1096556  0.1208516\n",
            " 0.13212273 0.13470257 0.14311835 0.14662492 0.15524108 0.1587226\n",
            " 0.16839073 0.17001879 0.17222292 0.1806387  0.17765811 0.16974327\n",
            " 0.16899186 0.17933626 0.17087038 0.16278021 0.16355667 0.15842204\n",
            " 0.14755166 0.15233563 0.1591985  0.1463995  0.14584847 0.15168441\n",
            " 0.15125861 0.14922981 0.13763306 0.14036318 0.12513463 0.12455855\n",
            " 0.14226675 0.12726362 0.12804008 0.13184721 0.14822793 0.12505949\n",
            " 0.12633688 0.11326237 0.11939887 0.09933626 0.08946775 0.10086412\n",
            " 0.09693175 0.10619912 0.08510958 0.07641828 0.07701941 0.09084534\n",
            " 0.09235726 0.09014954 0.08899286 0.08860955 0.08873793 0.08918069\n",
            " 0.08980613 0.09053321 0.0913147  0.09212357 0.092944   0.09376591\n",
            " 0.09458195 0.09538648 0.09617463 0.09694254]\n",
            "16 day output [[0.09768713]]\n",
            "17 day input [0.13259862 0.1323732  0.13119599 0.15902317 0.17016907 0.16974327\n",
            " 0.17282405 0.16546024 0.16418284 0.16235441 0.1702943  0.17392611\n",
            " 0.16350657 0.15479023 0.15539136 0.16518472 0.16458359 0.15539136\n",
            " 0.15143394 0.14396994 0.13332498 0.14001252 0.14529743 0.1459737\n",
            " 0.14116468 0.14958046 0.14875391 0.14108954 0.13139637 0.12673763\n",
            " 0.14053851 0.12944271 0.11994991 0.1096556  0.1208516  0.13212273\n",
            " 0.13470257 0.14311835 0.14662492 0.15524108 0.1587226  0.16839073\n",
            " 0.17001879 0.17222292 0.1806387  0.17765811 0.16974327 0.16899186\n",
            " 0.17933626 0.17087038 0.16278021 0.16355667 0.15842204 0.14755166\n",
            " 0.15233563 0.1591985  0.1463995  0.14584847 0.15168441 0.15125861\n",
            " 0.14922981 0.13763306 0.14036318 0.12513463 0.12455855 0.14226675\n",
            " 0.12726362 0.12804008 0.13184721 0.14822793 0.12505949 0.12633688\n",
            " 0.11326237 0.11939887 0.09933626 0.08946775 0.10086412 0.09693175\n",
            " 0.10619912 0.08510958 0.07641828 0.07701941 0.09084534 0.09235726\n",
            " 0.09014954 0.08899286 0.08860955 0.08873793 0.08918069 0.08980613\n",
            " 0.09053321 0.0913147  0.09212357 0.092944   0.09376591 0.09458195\n",
            " 0.09538648 0.09617463 0.09694254 0.09768713]\n",
            "17 day output [[0.09840599]]\n",
            "18 day input [0.1323732  0.13119599 0.15902317 0.17016907 0.16974327 0.17282405\n",
            " 0.16546024 0.16418284 0.16235441 0.1702943  0.17392611 0.16350657\n",
            " 0.15479023 0.15539136 0.16518472 0.16458359 0.15539136 0.15143394\n",
            " 0.14396994 0.13332498 0.14001252 0.14529743 0.1459737  0.14116468\n",
            " 0.14958046 0.14875391 0.14108954 0.13139637 0.12673763 0.14053851\n",
            " 0.12944271 0.11994991 0.1096556  0.1208516  0.13212273 0.13470257\n",
            " 0.14311835 0.14662492 0.15524108 0.1587226  0.16839073 0.17001879\n",
            " 0.17222292 0.1806387  0.17765811 0.16974327 0.16899186 0.17933626\n",
            " 0.17087038 0.16278021 0.16355667 0.15842204 0.14755166 0.15233563\n",
            " 0.1591985  0.1463995  0.14584847 0.15168441 0.15125861 0.14922981\n",
            " 0.13763306 0.14036318 0.12513463 0.12455855 0.14226675 0.12726362\n",
            " 0.12804008 0.13184721 0.14822793 0.12505949 0.12633688 0.11326237\n",
            " 0.11939887 0.09933626 0.08946775 0.10086412 0.09693175 0.10619912\n",
            " 0.08510958 0.07641828 0.07701941 0.09084534 0.09235726 0.09014954\n",
            " 0.08899286 0.08860955 0.08873793 0.08918069 0.08980613 0.09053321\n",
            " 0.0913147  0.09212357 0.092944   0.09376591 0.09458195 0.09538648\n",
            " 0.09617463 0.09694254 0.09768713 0.09840599]\n",
            "18 day output [[0.09909763]]\n",
            "19 day input [0.13119599 0.15902317 0.17016907 0.16974327 0.17282405 0.16546024\n",
            " 0.16418284 0.16235441 0.1702943  0.17392611 0.16350657 0.15479023\n",
            " 0.15539136 0.16518472 0.16458359 0.15539136 0.15143394 0.14396994\n",
            " 0.13332498 0.14001252 0.14529743 0.1459737  0.14116468 0.14958046\n",
            " 0.14875391 0.14108954 0.13139637 0.12673763 0.14053851 0.12944271\n",
            " 0.11994991 0.1096556  0.1208516  0.13212273 0.13470257 0.14311835\n",
            " 0.14662492 0.15524108 0.1587226  0.16839073 0.17001879 0.17222292\n",
            " 0.1806387  0.17765811 0.16974327 0.16899186 0.17933626 0.17087038\n",
            " 0.16278021 0.16355667 0.15842204 0.14755166 0.15233563 0.1591985\n",
            " 0.1463995  0.14584847 0.15168441 0.15125861 0.14922981 0.13763306\n",
            " 0.14036318 0.12513463 0.12455855 0.14226675 0.12726362 0.12804008\n",
            " 0.13184721 0.14822793 0.12505949 0.12633688 0.11326237 0.11939887\n",
            " 0.09933626 0.08946775 0.10086412 0.09693175 0.10619912 0.08510958\n",
            " 0.07641828 0.07701941 0.09084534 0.09235726 0.09014954 0.08899286\n",
            " 0.08860955 0.08873793 0.08918069 0.08980613 0.09053321 0.0913147\n",
            " 0.09212357 0.092944   0.09376591 0.09458195 0.09538648 0.09617463\n",
            " 0.09694254 0.09768713 0.09840599 0.09909763]\n",
            "19 day output [[0.0997612]]\n",
            "20 day input [0.15902317 0.17016907 0.16974327 0.17282405 0.16546024 0.16418284\n",
            " 0.16235441 0.1702943  0.17392611 0.16350657 0.15479023 0.15539136\n",
            " 0.16518472 0.16458359 0.15539136 0.15143394 0.14396994 0.13332498\n",
            " 0.14001252 0.14529743 0.1459737  0.14116468 0.14958046 0.14875391\n",
            " 0.14108954 0.13139637 0.12673763 0.14053851 0.12944271 0.11994991\n",
            " 0.1096556  0.1208516  0.13212273 0.13470257 0.14311835 0.14662492\n",
            " 0.15524108 0.1587226  0.16839073 0.17001879 0.17222292 0.1806387\n",
            " 0.17765811 0.16974327 0.16899186 0.17933626 0.17087038 0.16278021\n",
            " 0.16355667 0.15842204 0.14755166 0.15233563 0.1591985  0.1463995\n",
            " 0.14584847 0.15168441 0.15125861 0.14922981 0.13763306 0.14036318\n",
            " 0.12513463 0.12455855 0.14226675 0.12726362 0.12804008 0.13184721\n",
            " 0.14822793 0.12505949 0.12633688 0.11326237 0.11939887 0.09933626\n",
            " 0.08946775 0.10086412 0.09693175 0.10619912 0.08510958 0.07641828\n",
            " 0.07701941 0.09084534 0.09235726 0.09014954 0.08899286 0.08860955\n",
            " 0.08873793 0.08918069 0.08980613 0.09053321 0.0913147  0.09212357\n",
            " 0.092944   0.09376591 0.09458195 0.09538648 0.09617463 0.09694254\n",
            " 0.09768713 0.09840599 0.09909763 0.0997612 ]\n",
            "20 day output [[0.10039647]]\n",
            "21 day input [0.17016907 0.16974327 0.17282405 0.16546024 0.16418284 0.16235441\n",
            " 0.1702943  0.17392611 0.16350657 0.15479023 0.15539136 0.16518472\n",
            " 0.16458359 0.15539136 0.15143394 0.14396994 0.13332498 0.14001252\n",
            " 0.14529743 0.1459737  0.14116468 0.14958046 0.14875391 0.14108954\n",
            " 0.13139637 0.12673763 0.14053851 0.12944271 0.11994991 0.1096556\n",
            " 0.1208516  0.13212273 0.13470257 0.14311835 0.14662492 0.15524108\n",
            " 0.1587226  0.16839073 0.17001879 0.17222292 0.1806387  0.17765811\n",
            " 0.16974327 0.16899186 0.17933626 0.17087038 0.16278021 0.16355667\n",
            " 0.15842204 0.14755166 0.15233563 0.1591985  0.1463995  0.14584847\n",
            " 0.15168441 0.15125861 0.14922981 0.13763306 0.14036318 0.12513463\n",
            " 0.12455855 0.14226675 0.12726362 0.12804008 0.13184721 0.14822793\n",
            " 0.12505949 0.12633688 0.11326237 0.11939887 0.09933626 0.08946775\n",
            " 0.10086412 0.09693175 0.10619912 0.08510958 0.07641828 0.07701941\n",
            " 0.09084534 0.09235726 0.09014954 0.08899286 0.08860955 0.08873793\n",
            " 0.08918069 0.08980613 0.09053321 0.0913147  0.09212357 0.092944\n",
            " 0.09376591 0.09458195 0.09538648 0.09617463 0.09694254 0.09768713\n",
            " 0.09840599 0.09909763 0.0997612  0.10039647]\n",
            "21 day output [[0.10100374]]\n",
            "22 day input [0.16974327 0.17282405 0.16546024 0.16418284 0.16235441 0.1702943\n",
            " 0.17392611 0.16350657 0.15479023 0.15539136 0.16518472 0.16458359\n",
            " 0.15539136 0.15143394 0.14396994 0.13332498 0.14001252 0.14529743\n",
            " 0.1459737  0.14116468 0.14958046 0.14875391 0.14108954 0.13139637\n",
            " 0.12673763 0.14053851 0.12944271 0.11994991 0.1096556  0.1208516\n",
            " 0.13212273 0.13470257 0.14311835 0.14662492 0.15524108 0.1587226\n",
            " 0.16839073 0.17001879 0.17222292 0.1806387  0.17765811 0.16974327\n",
            " 0.16899186 0.17933626 0.17087038 0.16278021 0.16355667 0.15842204\n",
            " 0.14755166 0.15233563 0.1591985  0.1463995  0.14584847 0.15168441\n",
            " 0.15125861 0.14922981 0.13763306 0.14036318 0.12513463 0.12455855\n",
            " 0.14226675 0.12726362 0.12804008 0.13184721 0.14822793 0.12505949\n",
            " 0.12633688 0.11326237 0.11939887 0.09933626 0.08946775 0.10086412\n",
            " 0.09693175 0.10619912 0.08510958 0.07641828 0.07701941 0.09084534\n",
            " 0.09235726 0.09014954 0.08899286 0.08860955 0.08873793 0.08918069\n",
            " 0.08980613 0.09053321 0.0913147  0.09212357 0.092944   0.09376591\n",
            " 0.09458195 0.09538648 0.09617463 0.09694254 0.09768713 0.09840599\n",
            " 0.09909763 0.0997612  0.10039647 0.10100374]\n",
            "22 day output [[0.10158371]]\n",
            "23 day input [0.17282405 0.16546024 0.16418284 0.16235441 0.1702943  0.17392611\n",
            " 0.16350657 0.15479023 0.15539136 0.16518472 0.16458359 0.15539136\n",
            " 0.15143394 0.14396994 0.13332498 0.14001252 0.14529743 0.1459737\n",
            " 0.14116468 0.14958046 0.14875391 0.14108954 0.13139637 0.12673763\n",
            " 0.14053851 0.12944271 0.11994991 0.1096556  0.1208516  0.13212273\n",
            " 0.13470257 0.14311835 0.14662492 0.15524108 0.1587226  0.16839073\n",
            " 0.17001879 0.17222292 0.1806387  0.17765811 0.16974327 0.16899186\n",
            " 0.17933626 0.17087038 0.16278021 0.16355667 0.15842204 0.14755166\n",
            " 0.15233563 0.1591985  0.1463995  0.14584847 0.15168441 0.15125861\n",
            " 0.14922981 0.13763306 0.14036318 0.12513463 0.12455855 0.14226675\n",
            " 0.12726362 0.12804008 0.13184721 0.14822793 0.12505949 0.12633688\n",
            " 0.11326237 0.11939887 0.09933626 0.08946775 0.10086412 0.09693175\n",
            " 0.10619912 0.08510958 0.07641828 0.07701941 0.09084534 0.09235726\n",
            " 0.09014954 0.08899286 0.08860955 0.08873793 0.08918069 0.08980613\n",
            " 0.09053321 0.0913147  0.09212357 0.092944   0.09376591 0.09458195\n",
            " 0.09538648 0.09617463 0.09694254 0.09768713 0.09840599 0.09909763\n",
            " 0.0997612  0.10039647 0.10100374 0.10158371]\n",
            "23 day output [[0.10213754]]\n",
            "24 day input [0.16546024 0.16418284 0.16235441 0.1702943  0.17392611 0.16350657\n",
            " 0.15479023 0.15539136 0.16518472 0.16458359 0.15539136 0.15143394\n",
            " 0.14396994 0.13332498 0.14001252 0.14529743 0.1459737  0.14116468\n",
            " 0.14958046 0.14875391 0.14108954 0.13139637 0.12673763 0.14053851\n",
            " 0.12944271 0.11994991 0.1096556  0.1208516  0.13212273 0.13470257\n",
            " 0.14311835 0.14662492 0.15524108 0.1587226  0.16839073 0.17001879\n",
            " 0.17222292 0.1806387  0.17765811 0.16974327 0.16899186 0.17933626\n",
            " 0.17087038 0.16278021 0.16355667 0.15842204 0.14755166 0.15233563\n",
            " 0.1591985  0.1463995  0.14584847 0.15168441 0.15125861 0.14922981\n",
            " 0.13763306 0.14036318 0.12513463 0.12455855 0.14226675 0.12726362\n",
            " 0.12804008 0.13184721 0.14822793 0.12505949 0.12633688 0.11326237\n",
            " 0.11939887 0.09933626 0.08946775 0.10086412 0.09693175 0.10619912\n",
            " 0.08510958 0.07641828 0.07701941 0.09084534 0.09235726 0.09014954\n",
            " 0.08899286 0.08860955 0.08873793 0.08918069 0.08980613 0.09053321\n",
            " 0.0913147  0.09212357 0.092944   0.09376591 0.09458195 0.09538648\n",
            " 0.09617463 0.09694254 0.09768713 0.09840599 0.09909763 0.0997612\n",
            " 0.10039647 0.10100374 0.10158371 0.10213754]\n",
            "24 day output [[0.10266643]]\n",
            "25 day input [0.16418284 0.16235441 0.1702943  0.17392611 0.16350657 0.15479023\n",
            " 0.15539136 0.16518472 0.16458359 0.15539136 0.15143394 0.14396994\n",
            " 0.13332498 0.14001252 0.14529743 0.1459737  0.14116468 0.14958046\n",
            " 0.14875391 0.14108954 0.13139637 0.12673763 0.14053851 0.12944271\n",
            " 0.11994991 0.1096556  0.1208516  0.13212273 0.13470257 0.14311835\n",
            " 0.14662492 0.15524108 0.1587226  0.16839073 0.17001879 0.17222292\n",
            " 0.1806387  0.17765811 0.16974327 0.16899186 0.17933626 0.17087038\n",
            " 0.16278021 0.16355667 0.15842204 0.14755166 0.15233563 0.1591985\n",
            " 0.1463995  0.14584847 0.15168441 0.15125861 0.14922981 0.13763306\n",
            " 0.14036318 0.12513463 0.12455855 0.14226675 0.12726362 0.12804008\n",
            " 0.13184721 0.14822793 0.12505949 0.12633688 0.11326237 0.11939887\n",
            " 0.09933626 0.08946775 0.10086412 0.09693175 0.10619912 0.08510958\n",
            " 0.07641828 0.07701941 0.09084534 0.09235726 0.09014954 0.08899286\n",
            " 0.08860955 0.08873793 0.08918069 0.08980613 0.09053321 0.0913147\n",
            " 0.09212357 0.092944   0.09376591 0.09458195 0.09538648 0.09617463\n",
            " 0.09694254 0.09768713 0.09840599 0.09909763 0.0997612  0.10039647\n",
            " 0.10100374 0.10158371 0.10213754 0.10266643]\n",
            "25 day output [[0.10317197]]\n",
            "26 day input [0.16235441 0.1702943  0.17392611 0.16350657 0.15479023 0.15539136\n",
            " 0.16518472 0.16458359 0.15539136 0.15143394 0.14396994 0.13332498\n",
            " 0.14001252 0.14529743 0.1459737  0.14116468 0.14958046 0.14875391\n",
            " 0.14108954 0.13139637 0.12673763 0.14053851 0.12944271 0.11994991\n",
            " 0.1096556  0.1208516  0.13212273 0.13470257 0.14311835 0.14662492\n",
            " 0.15524108 0.1587226  0.16839073 0.17001879 0.17222292 0.1806387\n",
            " 0.17765811 0.16974327 0.16899186 0.17933626 0.17087038 0.16278021\n",
            " 0.16355667 0.15842204 0.14755166 0.15233563 0.1591985  0.1463995\n",
            " 0.14584847 0.15168441 0.15125861 0.14922981 0.13763306 0.14036318\n",
            " 0.12513463 0.12455855 0.14226675 0.12726362 0.12804008 0.13184721\n",
            " 0.14822793 0.12505949 0.12633688 0.11326237 0.11939887 0.09933626\n",
            " 0.08946775 0.10086412 0.09693175 0.10619912 0.08510958 0.07641828\n",
            " 0.07701941 0.09084534 0.09235726 0.09014954 0.08899286 0.08860955\n",
            " 0.08873793 0.08918069 0.08980613 0.09053321 0.0913147  0.09212357\n",
            " 0.092944   0.09376591 0.09458195 0.09538648 0.09617463 0.09694254\n",
            " 0.09768713 0.09840599 0.09909763 0.0997612  0.10039647 0.10100374\n",
            " 0.10158371 0.10213754 0.10266643 0.10317197]\n",
            "26 day output [[0.1036557]]\n",
            "27 day input [0.1702943  0.17392611 0.16350657 0.15479023 0.15539136 0.16518472\n",
            " 0.16458359 0.15539136 0.15143394 0.14396994 0.13332498 0.14001252\n",
            " 0.14529743 0.1459737  0.14116468 0.14958046 0.14875391 0.14108954\n",
            " 0.13139637 0.12673763 0.14053851 0.12944271 0.11994991 0.1096556\n",
            " 0.1208516  0.13212273 0.13470257 0.14311835 0.14662492 0.15524108\n",
            " 0.1587226  0.16839073 0.17001879 0.17222292 0.1806387  0.17765811\n",
            " 0.16974327 0.16899186 0.17933626 0.17087038 0.16278021 0.16355667\n",
            " 0.15842204 0.14755166 0.15233563 0.1591985  0.1463995  0.14584847\n",
            " 0.15168441 0.15125861 0.14922981 0.13763306 0.14036318 0.12513463\n",
            " 0.12455855 0.14226675 0.12726362 0.12804008 0.13184721 0.14822793\n",
            " 0.12505949 0.12633688 0.11326237 0.11939887 0.09933626 0.08946775\n",
            " 0.10086412 0.09693175 0.10619912 0.08510958 0.07641828 0.07701941\n",
            " 0.09084534 0.09235726 0.09014954 0.08899286 0.08860955 0.08873793\n",
            " 0.08918069 0.08980613 0.09053321 0.0913147  0.09212357 0.092944\n",
            " 0.09376591 0.09458195 0.09538648 0.09617463 0.09694254 0.09768713\n",
            " 0.09840599 0.09909763 0.0997612  0.10039647 0.10100374 0.10158371\n",
            " 0.10213754 0.10266643 0.10317197 0.1036557 ]\n",
            "27 day output [[0.10411929]]\n",
            "28 day input [0.17392611 0.16350657 0.15479023 0.15539136 0.16518472 0.16458359\n",
            " 0.15539136 0.15143394 0.14396994 0.13332498 0.14001252 0.14529743\n",
            " 0.1459737  0.14116468 0.14958046 0.14875391 0.14108954 0.13139637\n",
            " 0.12673763 0.14053851 0.12944271 0.11994991 0.1096556  0.1208516\n",
            " 0.13212273 0.13470257 0.14311835 0.14662492 0.15524108 0.1587226\n",
            " 0.16839073 0.17001879 0.17222292 0.1806387  0.17765811 0.16974327\n",
            " 0.16899186 0.17933626 0.17087038 0.16278021 0.16355667 0.15842204\n",
            " 0.14755166 0.15233563 0.1591985  0.1463995  0.14584847 0.15168441\n",
            " 0.15125861 0.14922981 0.13763306 0.14036318 0.12513463 0.12455855\n",
            " 0.14226675 0.12726362 0.12804008 0.13184721 0.14822793 0.12505949\n",
            " 0.12633688 0.11326237 0.11939887 0.09933626 0.08946775 0.10086412\n",
            " 0.09693175 0.10619912 0.08510958 0.07641828 0.07701941 0.09084534\n",
            " 0.09235726 0.09014954 0.08899286 0.08860955 0.08873793 0.08918069\n",
            " 0.08980613 0.09053321 0.0913147  0.09212357 0.092944   0.09376591\n",
            " 0.09458195 0.09538648 0.09617463 0.09694254 0.09768713 0.09840599\n",
            " 0.09909763 0.0997612  0.10039647 0.10100374 0.10158371 0.10213754\n",
            " 0.10266643 0.10317197 0.1036557  0.10411929]\n",
            "28 day output [[0.10456447]]\n",
            "29 day input [0.16350657 0.15479023 0.15539136 0.16518472 0.16458359 0.15539136\n",
            " 0.15143394 0.14396994 0.13332498 0.14001252 0.14529743 0.1459737\n",
            " 0.14116468 0.14958046 0.14875391 0.14108954 0.13139637 0.12673763\n",
            " 0.14053851 0.12944271 0.11994991 0.1096556  0.1208516  0.13212273\n",
            " 0.13470257 0.14311835 0.14662492 0.15524108 0.1587226  0.16839073\n",
            " 0.17001879 0.17222292 0.1806387  0.17765811 0.16974327 0.16899186\n",
            " 0.17933626 0.17087038 0.16278021 0.16355667 0.15842204 0.14755166\n",
            " 0.15233563 0.1591985  0.1463995  0.14584847 0.15168441 0.15125861\n",
            " 0.14922981 0.13763306 0.14036318 0.12513463 0.12455855 0.14226675\n",
            " 0.12726362 0.12804008 0.13184721 0.14822793 0.12505949 0.12633688\n",
            " 0.11326237 0.11939887 0.09933626 0.08946775 0.10086412 0.09693175\n",
            " 0.10619912 0.08510958 0.07641828 0.07701941 0.09084534 0.09235726\n",
            " 0.09014954 0.08899286 0.08860955 0.08873793 0.08918069 0.08980613\n",
            " 0.09053321 0.0913147  0.09212357 0.092944   0.09376591 0.09458195\n",
            " 0.09538648 0.09617463 0.09694254 0.09768713 0.09840599 0.09909763\n",
            " 0.0997612  0.10039647 0.10100374 0.10158371 0.10213754 0.10266643\n",
            " 0.10317197 0.1036557  0.10411929 0.10456447]\n",
            "29 day output [[0.10499285]]\n",
            "[[0.09235726296901703], [0.09014954417943954], [0.08899286389350891], [0.08860955387353897], [0.08873793482780457], [0.08918069303035736], [0.08980613201856613], [0.09053321182727814], [0.09131470322608948], [0.09212356805801392], [0.09294399619102478], [0.09376591444015503], [0.0945819541811943], [0.09538647532463074], [0.09617463499307632], [0.09694254398345947], [0.09768712520599365], [0.09840599447488785], [0.09909763187170029], [0.09976119548082352], [0.10039646923542023], [0.1010037437081337], [0.10158371180295944], [0.10213753581047058], [0.10266643017530441], [0.10317196696996689], [0.10365569591522217], [0.10411929339170456], [0.10456447303295135], [0.10499285161495209]]\n"
          ]
        }
      ]
    },
    {
      "cell_type": "code",
      "source": [
        "day_new=np.arange(1,101)\n",
        "day_pred=np.arange(101,131)"
      ],
      "metadata": {
        "id": "DtaP9osiPI6J"
      },
      "execution_count": 51,
      "outputs": []
    },
    {
      "cell_type": "code",
      "source": [
        "import matplotlib.pyplot as plt\n",
        "len(df1)"
      ],
      "metadata": {
        "colab": {
          "base_uri": "https://localhost:8080/"
        },
        "id": "Do6xqrTVPI8z",
        "outputId": "4dd9931d-00ea-4fe3-cb75-8b5d7971bbda"
      },
      "execution_count": 52,
      "outputs": [
        {
          "output_type": "execute_result",
          "data": {
            "text/plain": [
              "1258"
            ]
          },
          "metadata": {},
          "execution_count": 52
        }
      ]
    },
    {
      "cell_type": "code",
      "source": [
        "plt.plot(day_new,scaler.inverse_transform(df1[1158:]))\n",
        "plt.plot(day_pred,scaler.inverse_transform(lst_output))"
      ],
      "metadata": {
        "colab": {
          "base_uri": "https://localhost:8080/",
          "height": 282
        },
        "id": "vVUFbbOpPI_P",
        "outputId": "344d2397-12af-4b5f-c4f7-6b96086010b5"
      },
      "execution_count": 53,
      "outputs": [
        {
          "output_type": "execute_result",
          "data": {
            "text/plain": [
              "[<matplotlib.lines.Line2D at 0x7ff295857510>]"
            ]
          },
          "metadata": {},
          "execution_count": 53
        },
        {
          "output_type": "display_data",
          "data": {
            "text/plain": [
              "<Figure size 432x288 with 1 Axes>"
            ],
            "image/png": "[encoded data removed]"
          },
          "metadata": {
            "needs_background": "light"
          }
        }
      ]
    },
    {
      "cell_type": "code",
      "source": [
        "df3=df1.tolist()\n",
        "df3.extend(lst_output)\n",
        "plt.plot(df3[1200:])"
      ],
      "metadata": {
        "colab": {
          "base_uri": "https://localhost:8080/",
          "height": 282
        },
        "id": "yRr6-pPYPJBi",
        "outputId": "b05489c4-8a47-4e84-843b-c21733cf95df"
      },
      "execution_count": 55,
      "outputs": [
        {
          "output_type": "execute_result",
          "data": {
            "text/plain": [
              "[<matplotlib.lines.Line2D at 0x7ff2958a5390>]"
            ]
          },
          "metadata": {},
          "execution_count": 55
        },
        {
          "output_type": "display_data",
          "data": {
            "text/plain": [
              "<Figure size 432x288 with 1 Axes>"
            ],
            "image/png": "[encoded data removed]"
          },
          "metadata": {
            "needs_background": "light"
          }
        }
      ]
    },
    {
      "cell_type": "code",
      "source": [
        ""
      ],
      "metadata": {
        "id": "Txm8wLp2PJD7"
      },
      "execution_count": null,
      "outputs": []
    }
  ]
}